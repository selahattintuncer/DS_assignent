{
 "cells": [
  {
   "cell_type": "markdown",
   "metadata": {},
   "source": [
    "___\n",
    "\n",
    "<a href='http://www.pieriandata.com'><img src='../Pierian_Data_Logo.png'/></a>\n",
    "___\n",
    "<center><em>Copyright by Pierian Data Inc.</em></center>\n",
    "<center><em>For more information, visit us at <a href='http://www.pieriandata.com'>www.pieriandata.com</a></em></center>"
   ]
  },
  {
   "cell_type": "markdown",
   "metadata": {},
   "source": [
    "# Pandas Project Exercise \n",
    "\n",
    "# The Data\n",
    "\n",
    "This data set contains booking information for a city hotel and a resort hotel, and includes information such as when the booking was made, length of stay, the number of adults, children, and/or babies, and the number of available parking spaces, among other things.\n",
    "\n",
    "All personally identifying information has been removed from the data.\n",
    "\n",
    "Acknowledgements\n",
    "The data is originally from the article Hotel Booking Demand Datasets, written by Nuno Antonio, Ana Almeida, and Luis Nunes for Data in Brief, Volume 22, February 2019.\n",
    "\n",
    "\n",
    "----------------------------\n",
    "\n",
    "#### NOTE: Names, Emails, Phone Numbers, and Credit Card numbers in the data are synthetic and not real information from people. The hotel data is real from the publication listed above.\n",
    "\n",
    "## <div style=\"text-align: center\">Data Column Reference</div>"
   ]
  },
  {
   "cell_type": "markdown",
   "metadata": {},
   "source": [
    "<table><thead><tr class=\"rowsep-1\"><th scope=\"col\"><strong>Variable</strong></th><th scope=\"col\"><strong>Type</strong></th><th scope=\"col\"><strong>Description</strong></th><th scope=\"col\"><strong>Source/Engineering</strong></th></tr></thead><tbody><tr><th scope=\"row\"><em>ADR</em></th><td>Numeric</td><td>Average Daily Rate as defined by <a name=\"bbib5\" href=\"#bib5\" class=\"workspace-trigger\">[5]</a></td><td>BO, BL and TR / Calculated by dividing the sum of all lodging transactions by the total number of staying nights</td></tr><tr><th scope=\"row\"><em>Adults</em></th><td>Integer</td><td>Number of adults</td><td>BO and BL</td></tr><tr><th scope=\"row\"><em>Agent</em></th><td>Categorical</td><td>ID of the travel agency that made the booking<a name=\"btbl1fna\" href=\"#tbl1fna\" class=\"workspace-trigger\"><sup>a</sup></a></td><td>BO and BL</td></tr><tr><th scope=\"row\"><em>ArrivalDateDayOfMonth</em></th><td>Integer</td><td>Day of the month of the arrival date</td><td>BO and BL</td></tr><tr><th scope=\"row\"><em>ArrivalDateMonth</em></th><td>Categorical</td><td>Month of arrival date with 12 categories: “January” to “December”</td><td>BO and BL</td></tr><tr><th scope=\"row\"><em>ArrivalDateWeekNumber</em></th><td>Integer</td><td>Week number of the arrival date</td><td>BO and BL</td></tr><tr><th scope=\"row\"><em>ArrivalDateYear</em></th><td>Integer</td><td>Year of arrival date</td><td>BO and BL</td></tr><tr><th scope=\"row\"><em>AssignedRoomType</em></th><td>Categorical</td><td>Code for the type of room assigned to the booking. Sometimes the assigned room type differs from the reserved room type due to hotel operation reasons (e.g. overbooking) or by customer request. Code is presented instead of designation for anonymity reasons</td><td>BO and BL</td></tr><tr><th scope=\"row\"><em>Babies</em></th><td>Integer</td><td>Number of babies</td><td>BO and BL</td></tr><tr><th scope=\"row\"><em>BookingChanges</em></th><td>Integer</td><td>Number of changes/amendments made to the booking from the moment the booking was entered on the PMS until the moment of check-in or cancellation</td><td>BO and BL/Calculated by adding the number of unique iterations that change some of the booking attributes, namely: persons, arrival date, nights, reserved room type or meal</td></tr><tr><th scope=\"row\"><em>Children</em></th><td>Integer</td><td>Number of children</td><td>BO and BL/Sum of both payable and non-payable children</td></tr><tr><th scope=\"row\"><em>Company</em></th><td>Categorical</td><td>ID of the company/entity that made the booking or responsible for paying the booking. ID is presented instead of designation for anonymity reasons</td><td>BO and BL.</td></tr><tr><th scope=\"row\"><em>Country</em></th><td>Categorical</td><td>Country of origin. Categories are represented in the ISO 3155–3:2013 format <a name=\"bbib6\" href=\"#bib6\" class=\"workspace-trigger\">[6]</a></td><td>BO, BL and NT</td></tr><tr><th scope=\"row\"><br></th><td><br></td><td><br></td><td><br></td></tr><tr><th scope=\"row\" rowspan=\"5\"><em>CustomerType</em></th><td rowspan=\"5\">Categorical</td><td>Type of booking, assuming one of four categories:</td><td rowspan=\"5\">BO and BL</td></tr><tr><td>Contract - when the booking has an allotment or other type of contract associated to it;</td></tr><tr><td>Group – when the booking is associated to a group;</td></tr><tr><td>Transient – when the booking is not part of a group or contract, and is not associated to other transient booking;</td></tr><tr><td>Transient-party – when the booking is transient, but is associated to at least other transient booking</td></tr><tr><th scope=\"row\"><em>DaysInWaitingList</em></th><td>Integer</td><td>Number of days the booking was in the waiting list before it was confirmed to the customer</td><td>BO/Calculated by subtracting the date the booking was confirmed to the customer from the date the booking entered on the PMS</td></tr><tr><th scope=\"row\"><br></th><td><br></td><td><br></td><td><br></td></tr><tr><th scope=\"row\" rowspan=\"7\"><em>DepositType</em></th><td rowspan=\"7\">Categorical</td><td>Indication on if the customer made a deposit to guarantee the booking. This variable can assume three categories:</td><td rowspan=\"2\">BO and TR/Value calculated based on the payments identified for the booking in the transaction (TR) table before the booking׳s arrival or cancellation date.</td></tr><tr><td rowspan=\"3\">No Deposit – no deposit was made;</td></tr><tr><td>In case no payments were found the value is “No Deposit”.</td></tr><tr><td rowspan=\"2\">If the payment was equal or exceeded the total cost of stay, the value is set as “Non Refund”.</td></tr><tr><td rowspan=\"2\">Non Refund – a deposit was made in the value of the total stay cost;</td></tr><tr><td rowspan=\"2\">Otherwise the value is set as “Refundable”</td></tr><tr><td>Refundable – a deposit was made with a value under the total cost of stay.</td></tr><tr><th scope=\"row\"><em>DistributionChannel</em></th><td>Categorical</td><td>Booking distribution channel. The term “TA” means “Travel Agents” and “TO” means “Tour Operators”</td><td>BO, BL and DC</td></tr><tr><th scope=\"row\"><em>IsCanceled</em></th><td>Categorical</td><td>Value indicating if the booking was canceled (1) or not (0)</td><td>BO</td></tr><tr><th scope=\"row\"><em>IsRepeatedGuest</em></th><td>Categorical</td><td>Value indicating if the booking name was from a repeated guest (1) or not (0)</td><td>BO, BL and C/ Variable created by verifying if a profile was associated with the booking customer. If so, and if the customer profile creation date was prior to the creation date for the booking on the PMS database it was assumed the booking was from a repeated guest</td></tr><tr><th scope=\"row\"><em>LeadTime</em></th><td>Integer</td><td>Number of days that elapsed between the entering date of the booking into the PMS and the arrival date</td><td>BO and BL/ Subtraction of the entering date from the arrival date</td></tr><tr><th scope=\"row\"><em>MarketSegment</em></th><td>Categorical</td><td>Market segment designation. In categories, the term “TA” means “Travel Agents” and “TO” means “Tour Operators”</td><td>BO, BL and MS</td></tr><tr><th scope=\"row\"><br></th><td><br></td><td><br></td><td><br></td></tr><tr><th scope=\"row\" rowspan=\"5\"><em>Meal</em></th><td rowspan=\"5\">Categorical</td><td>Type of meal booked. Categories are presented in standard hospitality meal packages:</td><td rowspan=\"5\">BO, BL and ML</td></tr><tr><td>Undefined/SC – no meal package;</td></tr><tr><td>BB – Bed &amp; Breakfast;</td></tr><tr><td>HB – Half board (breakfast and one other meal – usually dinner);</td></tr><tr><td>FB – Full board (breakfast, lunch and dinner)</td></tr><tr><th scope=\"row\"><em>PreviousBookingsNotCanceled</em></th><td>Integer</td><td>Number of previous bookings not cancelled by the customer prior to the current booking</td><td>BO and BL / In case there was no customer profile associated with the booking, the value is set to 0. Otherwise, the value is the number of bookings with the same customer profile created before the current booking and not canceled.</td></tr><tr><th scope=\"row\"><em>PreviousCancellations</em></th><td>Integer</td><td>Number of previous bookings that were cancelled by the customer prior to the current booking</td><td>BO and BL/ In case there was no customer profile associated with the booking, the value is set to 0. Otherwise, the value is the number of bookings with the same customer profile created before the current booking and canceled.</td></tr><tr><th scope=\"row\"><em>RequiredCardParkingSpaces</em></th><td>Integer</td><td>Number of car parking spaces required by the customer</td><td>BO and BL</td></tr><tr><th scope=\"row\"><br></th><td><br></td><td><br></td><td><br></td></tr><tr><th scope=\"row\" rowspan=\"4\"><em>ReservationStatus</em></th><td rowspan=\"4\">Categorical</td><td>Reservation last status, assuming one of three categories:</td><td rowspan=\"4\">BO</td></tr><tr><td>Canceled – booking was canceled by the customer;</td></tr><tr><td>Check-Out – customer has checked in but already departed;</td></tr><tr><td>No-Show – customer did not check-in and did inform the hotel of the reason why</td></tr><tr><th scope=\"row\"><em>ReservationStatusDate</em></th><td>Date</td><td>Date at which the last status was set. This variable can be used in conjunction with the <em>ReservationStatus</em> to understand when was the booking canceled or when did the customer checked-out of the hotel</td><td>BO</td></tr><tr><th scope=\"row\"><em>ReservedRoomType</em></th><td>Categorical</td><td>Code of room type reserved. Code is presented instead of designation for anonymity reasons</td><td>BO and BL</td></tr><tr><th scope=\"row\"><em>StaysInWeekendNights</em></th><td>Integer</td><td>Number of weekend nights (Saturday or Sunday) the guest stayed or booked to stay at the hotel</td><td>BO and BL/ Calculated by counting the number of weekend nights from the total number of nights</td></tr><tr><th scope=\"row\"><em>StaysInWeekNights</em></th><td>Integer</td><td>Number of week nights (Monday to Friday) the guest stayed or booked to stay at the hotel</td><td>BO and BL/Calculated by counting the number of week nights from the total number of nights</td></tr><tr><th scope=\"row\"><em>TotalOfSpecialRequests</em></th><td>Integer</td><td>Number of special requests made by the customer (e.g. twin bed or high floor)</td><td>BO and BL/Sum of all special requests</td></tr></tbody></table>"
   ]
  },
  {
   "cell_type": "markdown",
   "metadata": {},
   "source": [
    "-----------"
   ]
  },
  {
   "cell_type": "markdown",
   "metadata": {},
   "source": [
    "# TASKS\n",
    "\n",
    "**Complete the tasks shown in bold below. The expected output is shown in a cell below. Be careful not to run the cell above the expected output, as it will clear the expected output. Try your best to solve these in one line of pandas code (not every single question can be solved in one line, but many can be!) Refer to solutions notebook and video to view possible solutions. NOTE: Many tasks have multiple correct solution methods!**\n",
    "\n",
    "-----\n",
    "### TASK: Run the following code to read in the \"hotel_booking_data.csv\" file. Feel free to explore the file a bit before continuing with the rest of the exercise."
   ]
  },
  {
   "cell_type": "code",
   "execution_count": 1,
   "metadata": {
    "collapsed": true
   },
   "outputs": [],
   "source": [
    "import pandas as pd"
   ]
  },
  {
   "cell_type": "code",
   "execution_count": 3,
   "metadata": {
    "collapsed": true
   },
   "outputs": [],
   "source": [
    "hotels = pd.read_csv(\"data/hotel_booking_data.csv\")"
   ]
  },
  {
   "cell_type": "code",
   "execution_count": 66,
   "metadata": {},
   "outputs": [
    {
     "output_type": "execute_result",
     "data": {
      "text/plain": [
       "       2015   \n",
       "36  Resort Hotel            0         15               2015   \n",
       "37  Resort Hotel            0         36               2015   \n",
       "38  Resort Hotel            1         43               2015   \n",
       "39  Resort Hotel            0         70               2015   \n",
       "40  Resort Hotel            1         45               2015   \n",
       "41  Resort Hotel            0         45               2015   \n",
       "42  Resort Hotel            0         16               2015   \n",
       "43  Resort Hotel            0         70               2015   \n",
       "44  Resort Hotel            0        107               2015   \n",
       "45  Resort Hotel            1         47               2015   \n",
       "46  Resort Hotel            0         96               2015   \n",
       "47  Resort Hotel            0        113               2015   \n",
       "48  Resort Hotel            0         90               2015   \n",
       "49  Resort Hotel            0         50               2015   \n",
       "\n",
       "   arrival_date_month  arrival_date_week_number  arrival_date_day_of_month  \\\n",
       "0                July                        27                          1   \n",
       "1                July                        27                          1   \n",
       "2                July                        27                          1   \n",
       "3                July                        27                          1   \n",
       "4                July                        27                          1   \n",
       "5                July                        27                          1   \n",
       "6                July                        27                          1   \n",
       "7                July                        27                          1   \n",
       "8                July                        27                          1   \n",
       "9                July                        27                          1   \n",
       "10               July                        27                          1   \n",
       "11               July                        27                          1   \n",
       "12               July                        27                          1   \n",
       "13               July                        27                          1   \n",
       "14               July                        27                          1   \n",
       "15               July                        27                          1   \n",
       "16               July                        27                          1   \n",
       "17               July                        27                          1   \n",
       "18               July                        27                          1   \n",
       "19               July                        27                          1   \n",
       "20               July                        27                          1   \n",
       "21               July                        27                          1   \n",
       "22               July                        27                          1   \n",
       "23               July                        27                          1   \n",
       "24               July                        27                          1   \n",
       "25               July                        27                          1   \n",
       "26               July                        27                          1   \n",
       "27               July                        27                          1   \n",
       "28               July                        27                          1   \n",
       "29               July                        27                          1   \n",
       "30               July                        27                          1   \n",
       "31               July                        27                          1   \n",
       "32               July                        27                          1   \n",
       "33               July                        27                          2   \n",
       "34               July                        27                          2   \n",
       "35               July                        27                          2   \n",
       "36               July                        27                          2   \n",
       "37               July                        27                          2   \n",
       "38               July                        27                          2   \n",
       "39               July                        27                          2   \n",
       "40               July                        27                          2   \n",
       "41               July                        27                          2   \n",
       "42               July                        27                          2   \n",
       "43               July                        27                          2   \n",
       "44               July                        27                          2   \n",
       "45               July                        27                          2   \n",
       "46               July                        27                          2   \n",
       "47               July                        27                          2   \n",
       "48               July                        27                          2   \n",
       "49               July                        27                          2   \n",
       "\n",
       "    stays_in_weekend_nights  stays_in_week_nights  adults  ...     adr  \\\n",
       "0                         0                     0       2  ...    0.00   \n",
       "1                         0                     0       2  ...    0.00   \n",
       "2                         0                     1       1  ...   75.00   \n",
       "3                         0                     1       1  ...   75.00   \n",
       "4                         0                     2       2  ...   98.00   \n",
       "5                         0                     2       2  ...   98.00   \n",
       "6                         0                     2       2  ...  107.00   \n",
       "7                         0                     2       2  ...  103.00   \n",
       "8                         0                     3       2  ...   82.00   \n",
       "9                         0                     3       2  ...  105.50   \n",
       "10                        0                     4       2  ...  123.00   \n",
       "11                        0                     4       2  ...  145.00   \n",
       "12                        0                     4       2  ...   97.00   \n",
       "13                        0                     4       2  ...  154.77   \n",
       "14                        0                     4       2  ...   94.71   \n",
       "15                        0                     4       2  ...   97.00   \n",
       "16                        0                     4       2  ...   97.50   \n",
       "17                        0                     1       2  ...   88.20   \n",
       "18                        0                     1       2  ...  107.42   \n",
       "19                        0                     4       2  ...  153.00   \n",
       "20                        1                     4       1  ...   97.29   \n",
       "21                        2                     4       2  ...   84.67   \n",
       "22                        2                     4       2  ...   84.67   \n",
       "23                        2                     4       2  ...   99.67   \n",
       "24                        2                     5       2  ...   94.95   \n",
       "25                        2                     5       2  ...   63.60   \n",
       "26                        2                     5       2  ...   79.50   \n",
       "27                        2                     5       2  ...  107.00   \n",
       "28                        2                     5       2  ...   94.00   \n",
       "29                        2                     5       2  ...   87.30   \n",
       "30                        4                    10       1  ...   62.00   \n",
       "31                        4                    11       2  ...   63.86   \n",
       "32                        2                     8       2  ...  108.30   \n",
       "33                        2                     4       2  ...   65.50   \n",
       "34                        1                     3       3  ...  108.80   \n",
       "35                        1                     3       3  ...  108.80   \n",
       "36                        1                     3       2  ...   98.00   \n",
       "37                        1                     3       3  ...  108.80   \n",
       "38                        1                     3       3  ...  108.80   \n",
       "39                        2                     3       2  ...  137.00   \n",
       "40                        2                     3       2  ...  117.81   \n",
       "41                        2                     3       2  ...   79.50   \n",
       "42                        2                     3       2  ...  123.00   \n",
       "43                        2                     3       2  ...  137.00   \n",
       "44                        2                     5       2  ...  110.70   \n",
       "45                        2                     5       2  ...  153.00   \n",
       "46                        2                     5       2  ...   58.95   \n",
       "47                        2                     5       2  ...   82.88   \n",
       "48                        2                     5       2  ...   82.35   \n",
       "49                        2                     5       2  ...  119.35   \n",
       "\n",
       "    required_car_parking_spaces total_of_special_requests reservation_status  \\\n",
       "0                             0                         0          Check-Out   \n",
       "1                             0                         0          Check-Out   \n",
       "2                             0                         0          Check-Out   \n",
       "3                             0                         0          Check-Out   \n",
       "4                             0                         1          Check-Out   \n",
       "5                             0                         1          Check-Out   \n",
       "6                             0                         0          Check-Out   \n",
       "7                             0                         1          Check-Out   \n",
       "8                             0                         1           Canceled   \n",
       "9                             0                         0           Canceled   \n",
       "10                            0                         0           Canceled   \n",
       "11                            0                         0          Check-Out   \n",
       "12                            0                         3          Check-Out   \n",
       "13                            0                         1          Check-Out   \n",
       "14                            0                         0          Check-Out   \n",
       "15                            0                         3          Check-Out   \n",
       "16                            0                         0          Check-Out   \n",
       "17                            0                         0          Check-Out   \n",
       "18                            0                         0          Check-Out   \n",
       "19                            0                         1          Check-Out   \n",
       "20                            0                         1          Check-Out   \n",
       "21                            0                         1          Check-Out   \n",
       "22                            0                         1          Check-Out   \n",
       "23                            0                         1          Check-Out   \n",
       "24                            0                         1          Check-Out   \n",
       "25                            1                         0          Check-Out   \n",
       "26                            0                         0          Check-Out   \n",
       "27                            0                         2           Canceled   \n",
       "28                            0                         0          Check-Out   \n",
       "29                            1                         1          Check-Out   \n",
       "30                            0                         2          Check-Out   \n",
       "31                            0                         0          Check-Out   \n",
       "32                            0                         2           Canceled   \n",
       "33                            0                         0          Check-Out   \n",
       "34                            0                         1           Canceled   \n",
       "35                            0                         1           Canceled   \n",
       "36                            0                         0          Check-Out   \n",
       "37                            0                         1          Check-Out   \n",
       "38                            0                         0           Canceled   \n",
       "39                            0                         1          Check-Out   \n",
       "40                            0                         0           Canceled   \n",
       "41                            0                         0          Check-Out   \n",
       "42                            0                         0          Check-Out   \n",
       "43                            0                         1          Check-Out   \n",
       "44                            0                         2          Check-Out   \n",
       "45                            0                         0           Canceled   \n",
       "46                            0                         1          Check-Out   \n",
       "47                            0                         2          Check-Out   \n",
       "48                            0                         0          Check-Out   \n",
       "49                            0                         1          Check-Out   \n",
       "\n",
       "   reservation_status_date                   name  \\\n",
       "0               2015-07-01          Ernest Barnes   \n",
       "1               2015-07-01           Andrea Baker   \n",
       "2               2015-07-02         Rebecca Parker   \n",
       "3               2015-07-02           Laura Murray   \n",
       "4               2015-07-03            Linda Hines   \n",
       "5               2015-07-03       Jasmine Fletcher   \n",
       "6               2015-07-03           Dylan Rangel   \n",
       "7               2015-07-03          William Velez   \n",
       "8               2015-05-06          Steven Murphy   \n",
       "9               2015-04-22          Michael Moore   \n",
       "10              2015-06-23  Priscilla Collins PhD   \n",
       "11              2015-07-05           Laurie Smith   \n",
       "12              2015-07-05           Casey Thomas   \n",
       "13              2015-07-05        Rachel Friedman   \n",
       "14              2015-07-05          Edward Torres   \n",
       "15              2015-07-05          Samuel Zavala   \n",
       "16              2015-07-05      Dr. Victor Martin   \n",
       "17              2015-07-02               Sara Lee   \n",
       "18              2015-07-02       Curtis Rodriguez   \n",
       "19              2015-07-05      Stephanie Schmidt   \n",
       "20              2015-07-06          John Matthews   \n",
       "21              2015-07-07           Robert Chung   \n",
       "22              2015-07-07            Mark Garcia   \n",
       "23              2015-07-07         Brandon Taylor   \n",
       "24              2015-07-01          Angie Sanchez   \n",
       "25              2015-07-08            Alexis King   \n",
       "26              2015-07-08       Michael Davidson   \n",
       "27              2015-05-11            Jaime Flynn   \n",
       "28              2015-07-08   Mrs. Alicia Williams   \n",
       "29              2015-07-08           Heather Hart   \n",
       "30              2015-07-15         Diamond Wilson   \n",
       "31              2015-07-16          Paul Williams   \n",
       "32              2015-05-29    Reginald Cunningham   \n",
       "33              2015-07-08            Willie Sims   \n",
       "34              2015-05-19             Alex Brown   \n",
       "35              2015-06-19        Virginia Holden   \n",
       "36              2015-07-06             John Smith   \n",
       "37              2015-07-06        Jennifer Barton   \n",
       "38              2015-05-23           Richard Holt   \n",
       "39              2015-07-07              Amy Green   \n",
       "40              2015-05-18         Kimberly Perez   \n",
       "41              2015-07-07        Carly Armstrong   \n",
       "42              2015-07-07          Scott Hammond   \n",
       "43              2015-07-07           Debra Fuller   \n",
       "44              2015-07-09           Rachel Davis   \n",
       "45              2015-06-02      Michael Mccormick   \n",
       "46              2015-07-09           Ann Sullivan   \n",
       "47              2015-07-09         Rachel Wallace   \n",
       "48              2015-07-09         Carla Ferguson   \n",
       "49              2015-07-09            Greg Hardin   \n",
       "\n",
       "                           email  phone-number       credit_card  \\\n",
       "0    Ernest.Barnes31@outlook.com  669-792-1661  ************4322   \n",
       "1         Andrea_Baker94@aol.com  858-637-6955  ************9157   \n",
       "2     Rebecca_Parker@comcast.net  652-885-2745  ************3734   \n",
       "3              Laura_M@gmail.com  364-656-8427  ************5677   \n",
       "4             LHines@verizon.com  713-226-5883  ************5498   \n",
       "5        JFletcher43@xfinity.com  190-271-6743  ************9263   \n",
       "6       Rangel.Dylan@comcast.net  420-332-5209  ************6994   \n",
       "7         Velez_William@mail.com  286-669-4333  ************8729   \n",
       "8        Steven.Murphy54@aol.com  341-726-5787  ************3639   \n",
       "9     MichaelMoore81@outlook.com  316-648-6176  ************9190   \n",
       "10       PhD.Priscilla74@att.com  833-887-7898  ************4642   \n",
       "11          Smith.Laurie@att.com  804-383-4080  ************5450   \n",
       "12         Casey_T78@outlook.com  211-071-2173  ************8518   \n",
       "13       Rachel.F@protonmail.com  435-075-8409  ************9767   \n",
       "14             Edward.T@zoho.com  790-746-7471  ************7719   \n",
       "15   Zavala_Samuel46@xfinity.com  649-384-5387  ************7612   \n",
       "16         Dr.Martin@xfinity.com  331-430-8824  ************6279   \n",
       "17            Sara.L@hotmail.com  573-306-9938  ************8950   \n",
       "18        CRodriguez@verizon.com  466-424-2102  ************1179   \n",
       "19  StephanieSchmidt@hotmail.com  896-642-1049  ************1110   \n",
       "20         John.Matthews@aol.com  952-496-4398  ************1019   \n",
       "21     Robert.Chung47@yandex.com  382-465-6552  ************8524   \n",
       "22         MGarcia16@comcast.net  784-675-4921  ************4371   \n",
       "23     BrandonTaylor@hotmail.com  227-329-7167  ************8470   \n",
       "24         Angie_Sanchez@att.com  211-889-2476  ************8871   \n",
       "25     King_Alexis70@hotmail.com  103-516-5853  ************6809   \n",
       "26     MichaelDavidson82@att.com  336-525-2460  ************8662   \n",
       "27        JaimeFlynn29@gmail.com  549-866-3721  ************9660   \n",
       "28           Mrs..W61@yandex.com  427-564-4927  ************4445   \n",
       "29         Heather.H@xfinity.com  431-329-6663  ************2780   \n",
       "30    Wilson.Diamond@comcast.net  870-563-6202  ************8017   \n",
       "31     Williams_Paul@xfinity.com  789-736-8837  ************7006   \n",
       "32      Reginald_C57@outlook.com  800-249-2144  ************5699   \n",
       "33            Willie_S@yahoo.com  790-830-7635  ************7682   \n",
       "34               Alex.B@zoho.com  956-737-1944  ************4084   \n",
       "35            Virginia.H@aol.com  734-480-9929  ************8469   \n",
       "36        John_Smith@xfinity.com  624-965-3392  ************6445   \n",
       "37           JBarton@hotmail.com  902-792-8048  ************2544   \n",
       "38      Richard.Holt@hotmail.com  517-420-6344  ************7544   \n",
       "39         Amy.Green56@gmail.com  858-208-4589  ************3073   \n",
       "40  Perez.Kimberly84@hotmail.com  320-615-3590  ************4653   \n",
       "41           CArmstrong@mail.com  521-784-3601  ************7391   \n",
       "42    ScottHammond41@verizon.com  632-108-8350  ************4823   \n",
       "43   Debra.Fuller@protonmail.com  229-134-3710  ************3550   \n",
       "44          RachelDavis@mail.com  549-261-2558  ************2810   \n",
       "45   Mccormick.Michael19@aol.com  380-830-9585  ************2950   \n",
       "46           AnnSullivan@att.com  947-577-3720  ************4782   \n",
       "47        Rachel_W79@xfinity.com  870-988-2775  ************1133   \n",
       "48        Carla_Ferguson@att.com  724-910-8709  ************8339   \n",
       "49         Hardin_Greg@gmail.com  488-646-3204  ************1449   \n",
       "\n",
       "   stays_in_nights  \n",
       "0                0  \n",
       "1                0  \n",
       "2                1  \n",
       "3                1  \n",
       "4                2  \n",
       "5                2  \n",
       "6                2  \n",
       "7                2  \n",
       "8                3  \n",
       "9                3  \n",
       "10               4  \n",
       "11               4  \n",
       "12               4  \n",
       "13               4  \n",
       "14               4  \n",
       "15               4  \n",
       "16               4  \n",
       "17               1  \n",
       "18               1  \n",
       "19               4  \n",
       "20               5  \n",
       "21               6  \n",
       "22               6  \n",
       "23               6  \n",
       "24               7  \n",
       "25               7  \n",
       "26               7  \n",
       "27               7  \n",
       "28               7  \n",
       "29               7  \n",
       "30              14  \n",
       "31              15  \n",
       "32              10  \n",
       "33               6  \n",
       "34               4  \n",
       "35               4  \n",
       "36               4  \n",
       "37               4  \n",
       "38               4  \n",
       "39               5  \n",
       "40               5  \n",
       "41               5  \n",
       "42               5  \n",
       "43               5  \n",
       "44               7  \n",
       "45               7  \n",
       "46               7  \n",
       "47               7  \n",
       "48               7  \n",
       "49               7  \n",
       "\n",
       "[50 rows x 36 columns]"
      ],
      "text/html": "<div>\n<style scoped>\n    .dataframe tbody tr th:only-of-type {\n        vertical-align: middle;\n    }\n\n    .dataframe tbody tr th {\n        vertical-align: top;\n    }\n\n    .dataframe thead th {\n        text-align: right;\n    }\n</style>\n<table border=\"1\" class=\"dataframe\">\n  <thead>\n    <tr style=\"text-align: right;\">\n      <th></th>\n      <th>hotel</th>\n      <th>is_canceled</th>\n      <th>lead_time</th>\n      <th>arrival_date_year</th>\n      <th>arrival_date_month</th>\n      <th>arrival_date_week_number</th>\n      <th>arrival_date_day_of_month</th>\n      <th>stays_in_weekend_nights</th>\n      <th>stays_in_week_nights</th>\n      <th>adults</th>\n      <th>...</th>\n      <th>adr</th>\n      <th>required_car_parking_spaces</th>\n      <th>total_of_special_requests</th>\n      <th>reservation_status</th>\n      <th>reservation_status_date</th>\n      <th>name</th>\n      <th>email</th>\n      <th>phone-number</th>\n      <th>credit_card</th>\n      <th>stays_in_nights</th>\n    </tr>\n  </thead>\n  <tbody>\n    <tr>\n      <th>0</th>\n      <td>Resort Hotel</td>\n      <td>0</td>\n      <td>342</td>\n      <td>2015</td>\n      <td>July</td>\n      <td>27</td>\n      <td>1</td>\n      <td>0</td>\n      <td>0</td>\n      <td>2</td>\n      <td>...</td>\n      <td>0.00</td>\n      <td>0</td>\n      <td>0</td>\n      <td>Check-Out</td>\n      <td>2015-07-01</td>\n      <td>Ernest Barnes</td>\n      <td>Ernest.Barnes31@outlook.com</td>\n      <td>669-792-1661</td>\n      <td>************4322</td>\n      <td>0</td>\n    </tr>\n    <tr>\n      <th>1</th>\n      <td>Resort Hotel</td>\n      <td>0</td>\n      <td>737</td>\n      <td>2015</td>\n      <td>July</td>\n      <td>27</td>\n      <td>1</td>\n      <td>0</td>\n      <td>0</td>\n      <td>2</td>\n      <td>...</td>\n      <td>0.00</td>\n      <td>0</td>\n      <td>0</td>\n      <td>Check-Out</td>\n      <td>2015-07-01</td>\n      <td>Andrea Baker</td>\n      <td>Andrea_Baker94@aol.com</td>\n      <td>858-637-6955</td>\n      <td>************9157</td>\n      <td>0</td>\n    </tr>\n    <tr>\n      <th>2</th>\n      <td>Resort Hotel</td>\n      <td>0</td>\n      <td>7</td>\n      <td>2015</td>\n      <td>July</td>\n      <td>27</td>\n      <td>1</td>\n      <td>0</td>\n      <td>1</td>\n      <td>1</td>\n      <td>...</td>\n      <td>75.00</td>\n      <td>0</td>\n      <td>0</td>\n      <td>Check-Out</td>\n      <td>2015-07-02</td>\n      <td>Rebecca Parker</td>\n      <td>Rebecca_Parker@comcast.net</td>\n      <td>652-885-2745</td>\n      <td>************3734</td>\n      <td>1</td>\n    </tr>\n    <tr>\n      <th>3</th>\n      <td>Resort Hotel</td>\n      <td>0</td>\n      <td>13</td>\n      <td>2015</td>\n      <td>July</td>\n      <td>27</td>\n      <td>1</td>\n      <td>0</td>\n      <td>1</td>\n      <td>1</td>\n      <td>...</td>\n      <td>75.00</td>\n      <td>0</td>\n      <td>0</td>\n      <td>Check-Out</td>\n      <td>2015-07-02</td>\n      <td>Laura Murray</td>\n      <td>Laura_M@gmail.com</td>\n      <td>364-656-8427</td>\n      <td>************5677</td>\n      <td>1</td>\n    </tr>\n    <tr>\n      <th>4</th>\n      <td>Resort Hotel</td>\n      <td>0</td>\n      <td>14</td>\n      <td>2015</td>\n      <td>July</td>\n      <td>27</td>\n      <td>1</td>\n      <td>0</td>\n      <td>2</td>\n      <td>2</td>\n      <td>...</td>\n      <td>98.00</td>\n      <td>0</td>\n      <td>1</td>\n      <td>Check-Out</td>\n      <td>2015-07-03</td>\n      <td>Linda Hines</td>\n      <td>LHines@verizon.com</td>\n      <td>713-226-5883</td>\n      <td>************5498</td>\n      <td>2</td>\n    </tr>\n    <tr>\n      <th>5</th>\n      <td>Resort Hotel</td>\n      <td>0</td>\n      <td>14</td>\n      <td>2015</td>\n      <td>July</td>\n      <td>27</td>\n      <td>1</td>\n      <td>0</td>\n      <td>2</td>\n      <td>2</td>\n      <td>...</td>\n      <td>98.00</td>\n      <td>0</td>\n      <td>1</td>\n      <td>Check-Out</td>\n      <td>2015-07-03</td>\n      <td>Jasmine Fletcher</td>\n      <td>JFletcher43@xfinity.com</td>\n      <td>190-271-6743</td>\n      <td>************9263</td>\n      <td>2</td>\n    </tr>\n    <tr>\n      <th>6</th>\n      <td>Resort Hotel</td>\n      <td>0</td>\n      <td>0</td>\n      <td>2015</td>\n      <td>July</td>\n      <td>27</td>\n      <td>1</td>\n      <td>0</td>\n      <td>2</td>\n      <td>2</td>\n      <td>...</td>\n      <td>107.00</td>\n      <td>0</td>\n      <td>0</td>\n      <td>Check-Out</td>\n      <td>2015-07-03</td>\n      <td>Dylan Rangel</td>\n      <td>Rangel.Dylan@comcast.net</td>\n      <td>420-332-5209</td>\n      <td>************6994</td>\n      <td>2</td>\n    </tr>\n    <tr>\n      <th>7</th>\n      <td>Resort Hotel</td>\n      <td>0</td>\n      <td>9</td>\n      <td>2015</td>\n      <td>July</td>\n      <td>27</td>\n      <td>1</td>\n      <td>0</td>\n      <td>2</td>\n      <td>2</td>\n      <td>...</td>\n      <td>103.00</td>\n      <td>0</td>\n      <td>1</td>\n      <td>Check-Out</td>\n      <td>2015-07-03</td>\n      <td>William Velez</td>\n      <td>Velez_William@mail.com</td>\n      <td>286-669-4333</td>\n      <td>************8729</td>\n      <td>2</td>\n    </tr>\n    <tr>\n      <th>8</th>\n      <td>Resort Hotel</td>\n      <td>1</td>\n      <td>85</td>\n      <td>2015</td>\n      <td>July</td>\n      <td>27</td>\n      <td>1</td>\n      <td>0</td>\n      <td>3</td>\n      <td>2</td>\n      <td>...</td>\n      <td>82.00</td>\n      <td>0</td>\n      <td>1</td>\n      <td>Canceled</td>\n      <td>2015-05-06</td>\n      <td>Steven Murphy</td>\n      <td>Steven.Murphy54@aol.com</td>\n      <td>341-726-5787</td>\n      <td>************3639</td>\n      <td>3</td>\n    </tr>\n    <tr>\n      <th>9</th>\n      <td>Resort Hotel</td>\n      <td>1</td>\n      <td>75</td>\n      <td>2015</td>\n      <td>July</td>\n      <td>27</td>\n      <td>1</td>\n      <td>0</td>\n      <td>3</td>\n      <td>2</td>\n      <td>...</td>\n      <td>105.50</td>\n      <td>0</td>\n      <td>0</td>\n      <td>Canceled</td>\n      <td>2015-04-22</td>\n      <td>Michael Moore</td>\n      <td>MichaelMoore81@outlook.com</td>\n      <td>316-648-6176</td>\n      <td>************9190</td>\n      <td>3</td>\n    </tr>\n    <tr>\n      <th>10</th>\n      <td>Resort Hotel</td>\n      <td>1</td>\n      <td>23</td>\n      <td>2015</td>\n      <td>July</td>\n      <td>27</td>\n      <td>1</td>\n      <td>0</td>\n      <td>4</td>\n      <td>2</td>\n      <td>...</td>\n      <td>123.00</td>\n      <td>0</td>\n      <td>0</td>\n      <td>Canceled</td>\n      <td>2015-06-23</td>\n      <td>Priscilla Collins PhD</td>\n      <td>PhD.Priscilla74@att.com</td>\n      <td>833-887-7898</td>\n      <td>************4642</td>\n      <td>4</td>\n    </tr>\n    <tr>\n      <th>11</th>\n      <td>Resort Hotel</td>\n      <td>0</td>\n      <td>35</td>\n      <td>2015</td>\n      <td>July</td>\n      <td>27</td>\n      <td>1</td>\n      <td>0</td>\n      <td>4</td>\n      <td>2</td>\n      <td>...</td>\n      <td>145.00</td>\n      <td>0</td>\n      <td>0</td>\n      <td>Check-Out</td>\n      <td>2015-07-05</td>\n      <td>Laurie Smith</td>\n      <td>Smith.Laurie@att.com</td>\n      <td>804-383-4080</td>\n      <td>************5450</td>\n      <td>4</td>\n    </tr>\n    <tr>\n      <th>12</th>\n      <td>Resort Hotel</td>\n      <td>0</td>\n      <td>68</td>\n      <td>2015</td>\n      <td>July</td>\n      <td>27</td>\n      <td>1</td>\n      <td>0</td>\n      <td>4</td>\n      <td>2</td>\n      <td>...</td>\n      <td>97.00</td>\n      <td>0</td>\n      <td>3</td>\n      <td>Check-Out</td>\n      <td>2015-07-05</td>\n      <td>Casey Thomas</td>\n      <td>Casey_T78@outlook.com</td>\n      <td>211-071-2173</td>\n      <td>************8518</td>\n      <td>4</td>\n    </tr>\n    <tr>\n      <th>13</th>\n      <td>Resort Hotel</td>\n      <td>0</td>\n      <td>18</td>\n      <td>2015</td>\n      <td>July</td>\n      <td>27</td>\n      <td>1</td>\n      <td>0</td>\n      <td>4</td>\n      <td>2</td>\n      <td>...</td>\n      <td>154.77</td>\n      <td>0</td>\n      <td>1</td>\n      <td>Check-Out</td>\n      <td>2015-07-05</td>\n      <td>Rachel Friedman</td>\n      <td>Rachel.F@protonmail.com</td>\n      <td>435-075-8409</td>\n      <td>************9767</td>\n      <td>4</td>\n    </tr>\n    <tr>\n      <th>14</th>\n      <td>Resort Hotel</td>\n      <td>0</td>\n      <td>37</td>\n      <td>2015</td>\n      <td>July</td>\n      <td>27</td>\n      <td>1</td>\n      <td>0</td>\n      <td>4</td>\n      <td>2</td>\n      <td>...</td>\n      <td>94.71</td>\n      <td>0</td>\n      <td>0</td>\n      <td>Check-Out</td>\n      <td>2015-07-05</td>\n      <td>Edward Torres</td>\n      <td>Edward.T@zoho.com</td>\n      <td>790-746-7471</td>\n      <td>************7719</td>\n      <td>4</td>\n    </tr>\n    <tr>\n      <th>15</th>\n      <td>Resort Hotel</td>\n      <td>0</td>\n      <td>68</td>\n      <td>2015</td>\n      <td>July</td>\n      <td>27</td>\n      <td>1</td>\n      <td>0</td>\n      <td>4</td>\n      <td>2</td>\n      <td>...</td>\n      <td>97.00</td>\n      <td>0</td>\n      <td>3</td>\n      <td>Check-Out</td>\n      <td>2015-07-05</td>\n      <td>Samuel Zavala</td>\n      <td>Zavala_Samuel46@xfinity.com</td>\n      <td>649-384-5387</td>\n      <td>************7612</td>\n      <td>4</td>\n    </tr>\n    <tr>\n      <th>16</th>\n      <td>Resort Hotel</td>\n      <td>0</td>\n      <td>37</td>\n      <td>2015</td>\n      <td>July</td>\n      <td>27</td>\n      <td>1</td>\n      <td>0</td>\n      <td>4</td>\n      <td>2</td>\n      <td>...</td>\n      <td>97.50</td>\n      <td>0</td>\n      <td>0</td>\n      <td>Check-Out</td>\n      <td>2015-07-05</td>\n      <td>Dr. Victor Martin</td>\n      <td>Dr.Martin@xfinity.com</td>\n      <td>331-430-8824</td>\n      <td>************6279</td>\n      <td>4</td>\n    </tr>\n    <tr>\n      <th>17</th>\n      <td>Resort Hotel</td>\n      <td>0</td>\n      <td>12</td>\n      <td>2015</td>\n      <td>July</td>\n      <td>27</td>\n      <td>1</td>\n      <td>0</td>\n      <td>1</td>\n      <td>2</td>\n      <td>...</td>\n      <td>88.20</td>\n      <td>0</td>\n      <td>0</td>\n      <td>Check-Out</td>\n      <td>2015-07-02</td>\n      <td>Sara Lee</td>\n      <td>Sara.L@hotmail.com</td>\n      <td>573-306-9938</td>\n      <td>************8950</td>\n      <td>1</td>\n    </tr>\n    <tr>\n      <th>18</th>\n      <td>Resort Hotel</td>\n      <td>0</td>\n      <td>0</td>\n      <td>2015</td>\n      <td>July</td>\n      <td>27</td>\n      <td>1</td>\n      <td>0</td>\n      <td>1</td>\n      <td>2</td>\n      <td>...</td>\n      <td>107.42</td>\n      <td>0</td>\n      <td>0</td>\n      <td>Check-Out</td>\n      <td>2015-07-02</td>\n      <td>Curtis Rodriguez</td>\n      <td>CRodriguez@verizon.com</td>\n      <td>466-424-2102</td>\n      <td>************1179</td>\n      <td>1</td>\n    </tr>\n    <tr>\n      <th>19</th>\n      <td>Resort Hotel</td>\n      <td>0</td>\n      <td>7</td>\n      <td>2015</td>\n      <td>July</td>\n      <td>27</td>\n      <td>1</td>\n      <td>0</td>\n      <td>4</td>\n      <td>2</td>\n      <td>...</td>\n      <td>153.00</td>\n      <td>0</td>\n      <td>1</td>\n      <td>Check-Out</td>\n      <td>2015-07-05</td>\n      <td>Stephanie Schmidt</td>\n      <td>StephanieSchmidt@hotmail.com</td>\n      <td>896-642-1049</td>\n      <td>************1110</td>\n      <td>4</td>\n    </tr>\n    <tr>\n      <th>20</th>\n      <td>Resort Hotel</td>\n      <td>0</td>\n      <td>37</td>\n      <td>2015</td>\n      <td>July</td>\n      <td>27</td>\n      <td>1</td>\n      <td>1</td>\n      <td>4</td>\n      <td>1</td>\n      <td>...</td>\n      <td>97.29</td>\n      <td>0</td>\n      <td>1</td>\n      <td>Check-Out</td>\n      <td>2015-07-06</td>\n      <td>John Matthews</td>\n      <td>John.Matthews@aol.com</td>\n      <td>952-496-4398</td>\n      <td>************1019</td>\n      <td>5</td>\n    </tr>\n    <tr>\n      <th>21</th>\n      <td>Resort Hotel</td>\n      <td>0</td>\n      <td>72</td>\n      <td>2015</td>\n      <td>July</td>\n      <td>27</td>\n      <td>1</td>\n      <td>2</td>\n      <td>4</td>\n      <td>2</td>\n      <td>...</td>\n      <td>84.67</td>\n      <td>0</td>\n      <td>1</td>\n      <td>Check-Out</td>\n      <td>2015-07-07</td>\n      <td>Robert Chung</td>\n      <td>Robert.Chung47@yandex.com</td>\n      <td>382-465-6552</td>\n      <td>************8524</td>\n      <td>6</td>\n    </tr>\n    <tr>\n      <th>22</th>\n      <td>Resort Hotel</td>\n      <td>0</td>\n      <td>72</td>\n      <td>2015</td>\n      <td>July</td>\n      <td>27</td>\n      <td>1</td>\n      <td>2</td>\n      <td>4</td>\n      <td>2</td>\n      <td>...</td>\n      <td>84.67</td>\n      <td>0</td>\n      <td>1</td>\n      <td>Check-Out</td>\n      <td>2015-07-07</td>\n      <td>Mark Garcia</td>\n      <td>MGarcia16@comcast.net</td>\n      <td>784-675-4921</td>\n      <td>************4371</td>\n      <td>6</td>\n    </tr>\n    <tr>\n      <th>23</th>\n      <td>Resort Hotel</td>\n      <td>0</td>\n      <td>72</td>\n      <td>2015</td>\n      <td>July</td>\n      <td>27</td>\n      <td>1</td>\n      <td>2</td>\n      <td>4</td>\n      <td>2</td>\n      <td>...</td>\n      <td>99.67</td>\n      <td>0</td>\n      <td>1</td>\n      <td>Check-Out</td>\n      <td>2015-07-07</td>\n      <td>Brandon Taylor</td>\n      <td>BrandonTaylor@hotmail.com</td>\n      <td>227-329-7167</td>\n      <td>************8470</td>\n      <td>6</td>\n    </tr>\n    <tr>\n      <th>24</th>\n      <td>Resort Hotel</td>\n      <td>0</td>\n      <td>127</td>\n      <td>2015</td>\n      <td>July</td>\n      <td>27</td>\n      <td>1</td>\n      <td>2</td>\n      <td>5</td>\n      <td>2</td>\n      <td>...</td>\n      <td>94.95</td>\n      <td>0</td>\n      <td>1</td>\n      <td>Check-Out</td>\n      <td>2015-07-01</td>\n      <td>Angie Sanchez</td>\n      <td>Angie_Sanchez@att.com</td>\n      <td>211-889-2476</td>\n      <td>************8871</td>\n      <td>7</td>\n    </tr>\n    <tr>\n      <th>25</th>\n      <td>Resort Hotel</td>\n      <td>0</td>\n      <td>78</td>\n      <td>2015</td>\n      <td>July</td>\n      <td>27</td>\n      <td>1</td>\n      <td>2</td>\n      <td>5</td>\n      <td>2</td>\n      <td>...</td>\n      <td>63.60</td>\n      <td>1</td>\n      <td>0</td>\n      <td>Check-Out</td>\n      <td>2015-07-08</td>\n      <td>Alexis King</td>\n      <td>King_Alexis70@hotmail.com</td>\n      <td>103-516-5853</td>\n      <td>************6809</td>\n      <td>7</td>\n    </tr>\n    <tr>\n      <th>26</th>\n      <td>Resort Hotel</td>\n      <td>0</td>\n      <td>48</td>\n      <td>2015</td>\n      <td>July</td>\n      <td>27</td>\n      <td>1</td>\n      <td>2</td>\n      <td>5</td>\n      <td>2</td>\n      <td>...</td>\n      <td>79.50</td>\n      <td>0</td>\n      <td>0</td>\n      <td>Check-Out</td>\n      <td>2015-07-08</td>\n      <td>Michael Davidson</td>\n      <td>MichaelDavidson82@att.com</td>\n      <td>336-525-2460</td>\n      <td>************8662</td>\n      <td>7</td>\n    </tr>\n    <tr>\n      <th>27</th>\n      <td>Resort Hotel</td>\n      <td>1</td>\n      <td>60</td>\n      <td>2015</td>\n      <td>July</td>\n      <td>27</td>\n      <td>1</td>\n      <td>2</td>\n      <td>5</td>\n      <td>2</td>\n      <td>...</td>\n      <td>107.00</td>\n      <td>0</td>\n      <td>2</td>\n      <td>Canceled</td>\n      <td>2015-05-11</td>\n      <td>Jaime Flynn</td>\n      <td>JaimeFlynn29@gmail.com</td>\n      <td>549-866-3721</td>\n      <td>************9660</td>\n      <td>7</td>\n    </tr>\n    <tr>\n      <th>28</th>\n      <td>Resort Hotel</td>\n      <td>0</td>\n      <td>77</td>\n      <td>2015</td>\n      <td>July</td>\n      <td>27</td>\n      <td>1</td>\n      <td>2</td>\n      <td>5</td>\n      <td>2</td>\n      <td>...</td>\n      <td>94.00</td>\n      <td>0</td>\n      <td>0</td>\n      <td>Check-Out</td>\n      <td>2015-07-08</td>\n      <td>Mrs. Alicia Williams</td>\n      <td>Mrs..W61@yandex.com</td>\n      <td>427-564-4927</td>\n      <td>************4445</td>\n      <td>7</td>\n    </tr>\n    <tr>\n      <th>29</th>\n      <td>Resort Hotel</td>\n      <td>0</td>\n      <td>99</td>\n      <td>2015</td>\n      <td>July</td>\n      <td>27</td>\n      <td>1</td>\n      <td>2</td>\n      <td>5</td>\n      <td>2</td>\n      <td>...</td>\n      <td>87.30</td>\n      <td>1</td>\n      <td>1</td>\n      <td>Check-Out</td>\n      <td>2015-07-08</td>\n      <td>Heather Hart</td>\n      <td>Heather.H@xfinity.com</td>\n      <td>431-329-6663</td>\n      <td>************2780</td>\n      <td>7</td>\n    </tr>\n    <tr>\n      <th>30</th>\n      <td>Resort Hotel</td>\n      <td>0</td>\n      <td>118</td>\n      <td>2015</td>\n      <td>July</td>\n      <td>27</td>\n      <td>1</td>\n      <td>4</td>\n      <td>10</td>\n      <td>1</td>\n      <td>...</td>\n      <td>62.00</td>\n      <td>0</td>\n      <td>2</td>\n      <td>Check-Out</td>\n      <td>2015-07-15</td>\n      <td>Diamond Wilson</td>\n      <td>Wilson.Diamond@comcast.net</td>\n      <td>870-563-6202</td>\n      <td>************8017</td>\n      <td>14</td>\n    </tr>\n    <tr>\n      <th>31</th>\n      <td>Resort Hotel</td>\n      <td>0</td>\n      <td>95</td>\n      <td>2015</td>\n      <td>July</td>\n      <td>27</td>\n      <td>1</td>\n      <td>4</td>\n      <td>11</td>\n      <td>2</td>\n      <td>...</td>\n      <td>63.86</td>\n      <td>0</td>\n      <td>0</td>\n      <td>Check-Out</td>\n      <td>2015-07-16</td>\n      <td>Paul Williams</td>\n      <td>Williams_Paul@xfinity.com</td>\n      <td>789-736-8837</td>\n      <td>************7006</td>\n      <td>15</td>\n    </tr>\n    <tr>\n      <th>32</th>\n      <td>Resort Hotel</td>\n      <td>1</td>\n      <td>96</td>\n      <td>2015</td>\n      <td>July</td>\n      <td>27</td>\n      <td>1</td>\n      <td>2</td>\n      <td>8</td>\n      <td>2</td>\n      <td>...</td>\n      <td>108.30</td>\n      <td>0</td>\n      <td>2</td>\n      <td>Canceled</td>\n      <td>2015-05-29</td>\n      <td>Reginald Cunningham</td>\n      <td>Reginald_C57@outlook.com</td>\n      <td>800-249-2144</td>\n      <td>************5699</td>\n      <td>10</td>\n    </tr>\n    <tr>\n      <th>33</th>\n      <td>Resort Hotel</td>\n      <td>0</td>\n      <td>69</td>\n      <td>2015</td>\n      <td>July</td>\n      <td>27</td>\n      <td>2</td>\n      <td>2</td>\n      <td>4</td>\n      <td>2</td>\n      <td>...</td>\n      <td>65.50</td>\n      <td>0</td>\n      <td>0</td>\n      <td>Check-Out</td>\n      <td>2015-07-08</td>\n      <td>Willie Sims</td>\n      <td>Willie_S@yahoo.com</td>\n      <td>790-830-7635</td>\n      <td>************7682</td>\n      <td>6</td>\n    </tr>\n    <tr>\n      <th>34</th>\n      <td>Resort Hotel</td>\n      <td>1</td>\n      <td>45</td>\n      <td>2015</td>\n      <td>July</td>\n      <td>27</td>\n      <td>2</td>\n      <td>1</td>\n      <td>3</td>\n      <td>3</td>\n      <td>...</td>\n      <td>108.80</td>\n      <td>0</td>\n      <td>1</td>\n      <td>Canceled</td>\n      <td>2015-05-19</td>\n      <td>Alex Brown</td>\n      <td>Alex.B@zoho.com</td>\n      <td>956-737-1944</td>\n      <td>************4084</td>\n      <td>4</td>\n    </tr>\n    <tr>\n      <th>35</th>\n      <td>Resort Hotel</td>\n      <td>1</td>\n      <td>40</td>\n      <td>2015</td>\n      <td>July</td>\n      <td>27</td>\n      <td>2</td>\n      <td>1</td>\n      <td>3</td>\n      <td>3</td>\n      <td>...</td>\n      <td>108.80</td>\n      <td>0</td>\n      <td>1</td>\n      <td>Canceled</td>\n      <td>2015-06-19</td>\n      <td>Virginia Holden</td>\n      <td>Virginia.H@aol.com</td>\n      <td>734-480-9929</td>\n      <td>************8469</td>\n      <td>4</td>\n    </tr>\n    <tr>\n      <th>36</th>\n      <td>Resort Hotel</td>\n      <td>0</td>\n      <td>15</td>\n      <td>2015</td>\n      <td>July</td>\n      <td>27</td>\n      <td>2</td>\n      <td>1</td>\n      <td>3</td>\n      <td>2</td>\n      <td>...</td>\n      <td>98.00</td>\n      <td>0</td>\n      <td>0</td>\n      <td>Check-Out</td>\n      <td>2015-07-06</td>\n      <td>John Smith</td>\n      <td>John_Smith@xfinity.com</td>\n      <td>624-965-3392</td>\n      <td>************6445</td>\n      <td>4</td>\n    </tr>\n    <tr>\n      <th>37</th>\n      <td>Resort Hotel</td>\n      <td>0</td>\n      <td>36</td>\n      <td>2015</td>\n      <td>July</td>\n      <td>27</td>\n      <td>2</td>\n      <td>1</td>\n      <td>3</td>\n      <td>3</td>\n      <td>...</td>\n      <td>108.80</td>\n      <td>0</td>\n      <td>1</td>\n      <td>Check-Out</td>\n      <td>2015-07-06</td>\n      <td>Jennifer Barton</td>\n      <td>JBarton@hotmail.com</td>\n      <td>902-792-8048</td>\n      <td>************2544</td>\n      <td>4</td>\n    </tr>\n    <tr>\n      <th>38</th>\n      <td>Resort Hotel</td>\n      <td>1</td>\n      <td>43</td>\n      <td>2015</td>\n      <td>July</td>\n      <td>27</td>\n      <td>2</td>\n      <td>1</td>\n      <td>3</td>\n      <td>3</td>\n      <td>...</td>\n      <td>108.80</td>\n      <td>0</td>\n      <td>0</td>\n      <td>Canceled</td>\n      <td>2015-05-23</td>\n      <td>Richard Holt</td>\n      <td>Richard.Holt@hotmail.com</td>\n      <td>517-420-6344</td>\n      <td>************7544</td>\n      <td>4</td>\n    </tr>\n    <tr>\n      <th>39</th>\n      <td>Resort Hotel</td>\n      <td>0</td>\n      <td>70</td>\n      <td>2015</td>\n      <td>July</td>\n      <td>27</td>\n      <td>2</td>\n      <td>2</td>\n      <td>3</td>\n      <td>2</td>\n      <td>...</td>\n      <td>137.00</td>\n      <td>0</td>\n      <td>1</td>\n      <td>Check-Out</td>\n      <td>2015-07-07</td>\n      <td>Amy Green</td>\n      <td>Amy.Green56@gmail.com</td>\n      <td>858-208-4589</td>\n      <td>************3073</td>\n      <td>5</td>\n    </tr>\n    <tr>\n      <th>40</th>\n      <td>Resort Hotel</td>\n      <td>1</td>\n      <td>45</td>\n      <td>2015</td>\n      <td>July</td>\n      <td>27</td>\n      <td>2</td>\n      <td>2</td>\n      <td>3</td>\n      <td>2</td>\n      <td>...</td>\n      <td>117.81</td>\n      <td>0</td>\n      <td>0</td>\n      <td>Canceled</td>\n      <td>2015-05-18</td>\n      <td>Kimberly Perez</td>\n      <td>Perez.Kimberly84@hotmail.com</td>\n      <td>320-615-3590</td>\n      <td>************4653</td>\n      <td>5</td>\n    </tr>\n    <tr>\n      <th>41</th>\n      <td>Resort Hotel</td>\n      <td>0</td>\n      <td>45</td>\n      <td>2015</td>\n      <td>July</td>\n      <td>27</td>\n      <td>2</td>\n      <td>2</td>\n      <td>3</td>\n      <td>2</td>\n      <td>...</td>\n      <td>79.50</td>\n      <td>0</td>\n      <td>0</td>\n      <td>Check-Out</td>\n      <td>2015-07-07</td>\n      <td>Carly Armstrong</td>\n      <td>CArmstrong@mail.com</td>\n      <td>521-784-3601</td>\n      <td>************7391</td>\n      <td>5</td>\n    </tr>\n    <tr>\n      <th>42</th>\n      <td>Resort Hotel</td>\n      <td>0</td>\n      <td>16</td>\n      <td>2015</td>\n      <td>July</td>\n      <td>27</td>\n      <td>2</td>\n      <td>2</td>\n      <td>3</td>\n      <td>2</td>\n      <td>...</td>\n      <td>123.00</td>\n      <td>0</td>\n      <td>0</td>\n      <td>Check-Out</td>\n      <td>2015-07-07</td>\n      <td>Scott Hammond</td>\n      <td>ScottHammond41@verizon.com</td>\n      <td>632-108-8350</td>\n      <td>************4823</td>\n      <td>5</td>\n    </tr>\n    <tr>\n      <th>43</th>\n      <td>Resort Hotel</td>\n      <td>0</td>\n      <td>70</td>\n      <td>2015</td>\n      <td>July</td>\n      <td>27</td>\n      <td>2</td>\n      <td>2</td>\n      <td>3</td>\n      <td>2</td>\n      <td>...</td>\n      <td>137.00</td>\n      <td>0</td>\n      <td>1</td>\n      <td>Check-Out</td>\n      <td>2015-07-07</td>\n      <td>Debra Fuller</td>\n      <td>Debra.Fuller@protonmail.com</td>\n      <td>229-134-3710</td>\n      <td>************3550</td>\n      <td>5</td>\n    </tr>\n    <tr>\n      <th>44</th>\n      <td>Resort Hotel</td>\n      <td>0</td>\n      <td>107</td>\n      <td>2015</td>\n      <td>July</td>\n      <td>27</td>\n      <td>2</td>\n      <td>2</td>\n      <td>5</td>\n      <td>2</td>\n      <td>...</td>\n      <td>110.70</td>\n      <td>0</td>\n      <td>2</td>\n      <td>Check-Out</td>\n      <td>2015-07-09</td>\n      <td>Rachel Davis</td>\n      <td>RachelDavis@mail.com</td>\n      <td>549-261-2558</td>\n      <td>************2810</td>\n      <td>7</td>\n    </tr>\n    <tr>\n      <th>45</th>\n      <td>Resort Hotel</td>\n      <td>1</td>\n      <td>47</td>\n      <td>2015</td>\n      <td>July</td>\n      <td>27</td>\n      <td>2</td>\n      <td>2</td>\n      <td>5</td>\n      <td>2</td>\n      <td>...</td>\n      <td>153.00</td>\n      <td>0</td>\n      <td>0</td>\n      <td>Canceled</td>\n      <td>2015-06-02</td>\n      <td>Michael Mccormick</td>\n      <td>Mccormick.Michael19@aol.com</td>\n      <td>380-830-9585</td>\n      <td>************2950</td>\n      <td>7</td>\n    </tr>\n    <tr>\n      <th>46</th>\n      <td>Resort Hotel</td>\n      <td>0</td>\n      <td>96</td>\n      <td>2015</td>\n      <td>July</td>\n      <td>27</td>\n      <td>2</td>\n      <td>2</td>\n      <td>5</td>\n      <td>2</td>\n      <td>...</td>\n      <td>58.95</td>\n      <td>0</td>\n      <td>1</td>\n      <td>Check-Out</td>\n      <td>2015-07-09</td>\n      <td>Ann Sullivan</td>\n      <td>AnnSullivan@att.com</td>\n      <td>947-577-3720</td>\n      <td>************4782</td>\n      <td>7</td>\n    </tr>\n    <tr>\n      <th>47</th>\n      <td>Resort Hotel</td>\n      <td>0</td>\n      <td>113</td>\n      <td>2015</td>\n      <td>July</td>\n      <td>27</td>\n      <td>2</td>\n      <td>2</td>\n      <td>5</td>\n      <td>2</td>\n      <td>...</td>\n      <td>82.88</td>\n      <td>0</td>\n      <td>2</td>\n      <td>Check-Out</td>\n      <td>2015-07-09</td>\n      <td>Rachel Wallace</td>\n      <td>Rachel_W79@xfinity.com</td>\n      <td>870-988-2775</td>\n      <td>************1133</td>\n      <td>7</td>\n    </tr>\n    <tr>\n      <th>48</th>\n      <td>Resort Hotel</td>\n      <td>0</td>\n      <td>90</td>\n      <td>2015</td>\n      <td>July</td>\n      <td>27</td>\n      <td>2</td>\n      <td>2</td>\n      <td>5</td>\n      <td>2</td>\n      <td>...</td>\n      <td>82.35</td>\n      <td>0</td>\n      <td>0</td>\n      <td>Check-Out</td>\n      <td>2015-07-09</td>\n      <td>Carla Ferguson</td>\n      <td>Carla_Ferguson@att.com</td>\n      <td>724-910-8709</td>\n      <td>************8339</td>\n      <td>7</td>\n    </tr>\n    <tr>\n      <th>49</th>\n      <td>Resort Hotel</td>\n      <td>0</td>\n      <td>50</td>\n      <td>2015</td>\n      <td>July</td>\n      <td>27</td>\n      <td>2</td>\n      <td>2</td>\n      <td>5</td>\n      <td>2</td>\n      <td>...</td>\n      <td>119.35</td>\n      <td>0</td>\n      <td>1</td>\n      <td>Check-Out</td>\n      <td>2015-07-09</td>\n      <td>Greg Hardin</td>\n      <td>Hardin_Greg@gmail.com</td>\n      <td>488-646-3204</td>\n      <td>************1449</td>\n      <td>7</td>\n    </tr>\n  </tbody>\n</table>\n<p>50 rows × 36 columns</p>\n</div>"
     },
     "metadata": {},
     "execution_count": 66
    }
   ],
   "source": [
    "hotels.head(50)"
   ]
  },
  {
   "cell_type": "markdown",
   "metadata": {},
   "source": [
    "---\n",
    "**TASK: How many rows are there?**"
   ]
  },
  {
   "cell_type": "code",
   "execution_count": 4,
   "metadata": {
    "collapsed": true
   },
   "outputs": [
    {
     "output_type": "execute_result",
     "data": {
      "text/plain": [
       "119390"
      ]
     },
     "metadata": {},
     "execution_count": 4
    }
   ],
   "source": [
    "# CODE HERE\n",
    "\n",
    "len(hotels)"
   ]
  },
  {
   "cell_type": "code",
   "execution_count": 12,
   "metadata": {},
   "outputs": [
    {
     "data": {
      "text/plain": [
       "119390"
      ]
     },
     "execution_count": 12,
     "metadata": {},
     "output_type": "execute_result"
    }
   ],
   "source": []
  },
  {
   "cell_type": "markdown",
   "metadata": {},
   "source": [
    "**TASK: Is there any missing data? If so, which column has the most missing data?**"
   ]
  },
  {
   "cell_type": "code",
   "execution_count": 8,
   "metadata": {
    "collapsed": true
   },
   "outputs": [
    {
     "output_type": "execute_result",
     "data": {
      "text/plain": [
       "hotel                                  0\n",
       "is_canceled                            0\n",
       "lead_time                              0\n",
       "arrival_date_year                      0\n",
       "arrival_date_month                     0\n",
       "arrival_date_week_number               0\n",
       "arrival_date_day_of_month              0\n",
       "stays_in_weekend_nights                0\n",
       "stays_in_week_nights                   0\n",
       "adults                                 0\n",
       "children                               4\n",
       "babies                                 0\n",
       "meal                                   0\n",
       "country                              488\n",
       "market_segment                         0\n",
       "distribution_channel                   0\n",
       "is_repeated_guest                      0\n",
       "previous_cancellations                 0\n",
       "previous_bookings_not_canceled         0\n",
       "reserved_room_type                     0\n",
       "assigned_room_type                     0\n",
       "booking_changes                        0\n",
       "deposit_type                           0\n",
       "agent                              16340\n",
       "company                           112593\n",
       "days_in_waiting_list                   0\n",
       "customer_type                          0\n",
       "adr                                    0\n",
       "required_car_parking_spaces            0\n",
       "total_of_special_requests              0\n",
       "reservation_status                     0\n",
       "reservation_status_date                0\n",
       "name                                   0\n",
       "email                                  0\n",
       "phone-number                           0\n",
       "credit_card                            0\n",
       "dtype: int64"
      ]
     },
     "metadata": {},
     "execution_count": 8
    }
   ],
   "source": [
    "# CODE HERE\n",
    "hotels.isnull().sum()"
   ]
  },
  {
   "cell_type": "code",
   "execution_count": 13,
   "metadata": {},
   "outputs": [
    {
     "data": {
      "text/plain": [
       "hotel                                  0\n",
       "is_canceled                            0\n",
       "lead_time                              0\n",
       "arrival_date_year                      0\n",
       "arrival_date_month                     0\n",
       "arrival_date_week_number               0\n",
       "arrival_date_day_of_month              0\n",
       "stays_in_weekend_nights                0\n",
       "stays_in_week_nights                   0\n",
       "adults                                 0\n",
       "children                               4\n",
       "babies                                 0\n",
       "meal                                   0\n",
       "country                              488\n",
       "market_segment                         0\n",
       "distribution_channel                   0\n",
       "is_repeated_guest                      0\n",
       "previous_cancellations                 0\n",
       "previous_bookings_not_canceled         0\n",
       "reserved_room_type                     0\n",
       "assigned_room_type                     0\n",
       "booking_changes                        0\n",
       "deposit_type                           0\n",
       "agent                              16340\n",
       "company                           112593\n",
       "days_in_waiting_list                   0\n",
       "customer_type                          0\n",
       "adr                                    0\n",
       "required_car_parking_spaces            0\n",
       "total_of_special_requests              0\n",
       "reservation_status                     0\n",
       "reservation_status_date                0\n",
       "name                                   0\n",
       "email                                  0\n",
       "phone-number                           0\n",
       "credit_card                            0\n",
       "dtype: int64"
      ]
     },
     "execution_count": 13,
     "metadata": {},
     "output_type": "execute_result"
    }
   ],
   "source": []
  },
  {
   "cell_type": "code",
   "execution_count": 13,
   "metadata": {},
   "outputs": [
    {
     "output_type": "stream",
     "name": "stdout",
     "text": [
      "Yes, missing data, company column missing: 112593 rows.\n"
     ]
    }
   ],
   "source": [
    "print(f\"Yes, missing data, company column missing: {hotels['company'].isna().sum()} rows.\")"
   ]
  },
  {
   "cell_type": "code",
   "execution_count": 16,
   "metadata": {},
   "outputs": [
    {
     "name": "stdout",
     "output_type": "stream",
     "text": [
      "Yes, missing data, company column missing: 112593 rows.\n"
     ]
    }
   ],
   "source": []
  },
  {
   "cell_type": "markdown",
   "metadata": {},
   "source": [
    "**TASK: Drop the \"company\" column from the dataset.**"
   ]
  },
  {
   "cell_type": "code",
   "execution_count": 14,
   "metadata": {
    "collapsed": true
   },
   "outputs": [],
   "source": [
    "# CODE HERE\n",
    "hotels.drop(\"company\", axis=1, inplace= True)"
   ]
  },
  {
   "cell_type": "code",
   "execution_count": 16,
   "metadata": {},
   "outputs": [
    {
     "output_type": "execute_result",
     "data": {
      "text/plain": [
       "hotel                                 0\n",
       "is_canceled                           0\n",
       "lead_time                             0\n",
       "arrival_date_year                     0\n",
       "arrival_date_month                    0\n",
       "arrival_date_week_number              0\n",
       "arrival_date_day_of_month             0\n",
       "stays_in_weekend_nights               0\n",
       "stays_in_week_nights                  0\n",
       "adults                                0\n",
       "children                              4\n",
       "babies                                0\n",
       "meal                                  0\n",
       "country                             488\n",
       "market_segment                        0\n",
       "distribution_channel                  0\n",
       "is_repeated_guest                     0\n",
       "previous_cancellations                0\n",
       "previous_bookings_not_canceled        0\n",
       "reserved_room_type                    0\n",
       "assigned_room_type                    0\n",
       "booking_changes                       0\n",
       "deposit_type                          0\n",
       "agent                             16340\n",
       "days_in_waiting_list                  0\n",
       "customer_type                         0\n",
       "adr                                   0\n",
       "required_car_parking_spaces           0\n",
       "total_of_special_requests             0\n",
       "reservation_status                    0\n",
       "reservation_status_date               0\n",
       "name                                  0\n",
       "email                                 0\n",
       "phone-number                          0\n",
       "credit_card                           0\n",
       "dtype: int64"
      ]
     },
     "metadata": {},
     "execution_count": 16
    }
   ],
   "source": [
    "hotels.isnull().sum()"
   ]
  },
  {
   "cell_type": "code",
   "execution_count": 17,
   "metadata": {
    "collapsed": true
   },
   "outputs": [],
   "source": []
  },
  {
   "cell_type": "markdown",
   "metadata": {},
   "source": [
    "**TASK: What are the top 5 most common country codes in the dataset?**"
   ]
  },
  {
   "cell_type": "code",
   "execution_count": 24,
   "metadata": {
    "collapsed": true
   },
   "outputs": [
    {
     "output_type": "execute_result",
     "data": {
      "text/plain": [
       "PRT    48590\n",
       "GBR    12129\n",
       "FRA    10415\n",
       "ESP     8568\n",
       "DEU     7287\n",
       "Name: country, dtype: int64"
      ]
     },
     "metadata": {},
     "execution_count": 24
    }
   ],
   "source": [
    "# CODE HERE\n",
    "hotels[\"country\"].value_counts()[:5]"
   ]
  },
  {
   "cell_type": "code",
   "execution_count": 45,
   "metadata": {
    "scrolled": true
   },
   "outputs": [
    {
     "data": {
      "text/plain": [
       "PRT    48590\n",
       "GBR    12129\n",
       "FRA    10415\n",
       "ESP     8568\n",
       "DEU     7287\n",
       "Name: country, dtype: int64"
      ]
     },
     "execution_count": 45,
     "metadata": {},
     "output_type": "execute_result"
    }
   ],
   "source": []
  },
  {
   "cell_type": "markdown",
   "metadata": {},
   "source": [
    "**TASK: What is the name of the person who paid the highest ADR (average daily rate)? How much was their ADR?**"
   ]
  },
  {
   "cell_type": "code",
   "execution_count": 31,
   "metadata": {
    "collapsed": true
   },
   "outputs": [
    {
     "output_type": "execute_result",
     "data": {
      "text/plain": [
       "adr            5400.0\n",
       "name    Daniel Walter\n",
       "Name: 48515, dtype: object"
      ]
     },
     "metadata": {},
     "execution_count": 31
    }
   ],
   "source": [
    "# CODE HERE\n",
    "hotels.sort_values(\"adr\", ascending= False)[[\"adr\", \"name\"]].iloc[0]"
   ]
  },
  {
   "cell_type": "code",
   "execution_count": 47,
   "metadata": {},
   "outputs": [
    {
     "data": {
      "text/plain": [
       "adr              5400\n",
       "name    Daniel Walter\n",
       "Name: 48515, dtype: object"
      ]
     },
     "execution_count": 47,
     "metadata": {},
     "output_type": "execute_result"
    }
   ],
   "source": []
  },
  {
   "cell_type": "markdown",
   "metadata": {},
   "source": [
    "**TASK: The adr is the average daily rate for a person's stay at the hotel. What is the mean adr across all the hotel stays in the dataset?**"
   ]
  },
  {
   "cell_type": "code",
   "execution_count": 37,
   "metadata": {
    "collapsed": true
   },
   "outputs": [
    {
     "output_type": "execute_result",
     "data": {
      "text/plain": [
       "101.83"
      ]
     },
     "metadata": {},
     "execution_count": 37
    }
   ],
   "source": [
    "# CODE HERE\n",
    "round(hotels[\"adr\"].mean(),2)"
   ]
  },
  {
   "cell_type": "code",
   "execution_count": 36,
   "metadata": {},
   "outputs": [
    {
     "output_type": "execute_result",
     "data": {
      "text/plain": [
       "101.83"
      ]
     },
     "metadata": {},
     "execution_count": 36
    }
   ],
   "source": []
  },
  {
   "cell_type": "markdown",
   "metadata": {},
   "source": [
    "**TASK: What is the average (mean) number of nights for a stay across the entire data set? Feel free to round this to 2 decimal points.**"
   ]
  },
  {
   "cell_type": "code",
   "execution_count": 41,
   "metadata": {
    "collapsed": true
   },
   "outputs": [
    {
     "output_type": "execute_result",
     "data": {
      "text/plain": [
       "3.43"
      ]
     },
     "metadata": {},
     "execution_count": 41
    }
   ],
   "source": [
    "# CODE HERE\n",
    "# stays_in_weekend_nights\tstays_in_week_nights\n",
    "round(hotels[\"stays_in_weekend_nights\"].mean() + hotels[\"stays_in_week_nights\"].mean(), 2)\n"
   ]
  },
  {
   "cell_type": "code",
   "execution_count": 44,
   "metadata": {},
   "outputs": [
    {
     "data": {
      "text/plain": [
       "3.43"
      ]
     },
     "execution_count": 44,
     "metadata": {},
     "output_type": "execute_result"
    }
   ],
   "source": []
  },
  {
   "cell_type": "markdown",
   "metadata": {},
   "source": [
    "**TASK: What is the average total cost for a stay in the dataset? Not *average daily cost*, but *total* stay cost. (You will need to calculate total cost your self by using ADR and week day and weeknight stays). Feel free to round this to 2 decimal points.**"
   ]
  },
  {
   "cell_type": "code",
   "execution_count": 49,
   "metadata": {
    "collapsed": true
   },
   "outputs": [],
   "source": [
    "# CODE HERE\n",
    "hotels[\"stays_in_nights\"] = hotels[\"stays_in_weekend_nights\"] + hotels[\"stays_in_week_nights\"]"
   ]
  },
  {
   "cell_type": "code",
   "execution_count": 55,
   "metadata": {},
   "outputs": [
    {
     "output_type": "execute_result",
     "data": {
      "text/plain": [
       "357.85"
      ]
     },
     "metadata": {},
     "execution_count": 55
    }
   ],
   "source": [
    "round((hotels[\"stays_in_nights\"] * hotels[\"adr\"]).mean(), 2)"
   ]
  },
  {
   "cell_type": "code",
   "execution_count": 43,
   "metadata": {},
   "outputs": [
    {
     "data": {
      "text/plain": [
       "357.85"
      ]
     },
     "execution_count": 43,
     "metadata": {},
     "output_type": "execute_result"
    }
   ],
   "source": []
  },
  {
   "cell_type": "markdown",
   "metadata": {},
   "source": [
    "**TASK: What are the names and emails of people who made exactly 5 \"Special Requests\"?**"
   ]
  },
  {
   "cell_type": "code",
   "execution_count": 58,
   "metadata": {
    "collapsed": true
   },
   "outputs": [
    {
     "output_type": "execute_result",
     "data": {
      "text/plain": [
       "                          name                          email\n",
       "7860             Amanda Harper           Amanda.H66@yahoo.com\n",
       "11125            Laura Sanders      Sanders_Laura@hotmail.com\n",
       "14596              Tommy Ortiz            Tommy_O@hotmail.com\n",
       "14921           Gilbert Miller         Miller.Gilbert@aol.com\n",
       "14922           Timothy Torres         TTorres@protonmail.com\n",
       "24630          Jennifer Weaver             Jennifer_W@aol.com\n",
       "27288           Crystal Horton             Crystal.H@mail.com\n",
       "27477           Brittney Burke       Burke_Brittney16@att.com\n",
       "29906          Cynthia Cabrera    Cabrera.Cynthia@xfinity.com\n",
       "29949              Sarah Floyd              Sarah_F@gmail.com\n",
       "32267           Michelle Villa         Michelle.Villa@aol.com\n",
       "39027           Nichole Hebert       Hebert.Nichole@gmail.com\n",
       "39129         Lindsey Mckenzie       Lindsey.Mckenzie@att.com\n",
       "39525           Ashley Edwards       Edwards.Ashley@yahoo.com\n",
       "70114       Christopher Torres   Torres.Christopher@gmail.com\n",
       "78819   Mrs. Tara Sullivan DVM           Mrs..DVM@xfinity.com\n",
       "78820           Michaela Brown          MichaelaBrown@att.com\n",
       "78822        Kurt Maldonado MD              KMD15@xfinity.com\n",
       "97072         Jason Richardson               Jason.R@zoho.com\n",
       "97099             Terri Hurley            THurley@xfinity.com\n",
       "97261        Mrs. Caitlin Webb             Mrs._W@comcast.net\n",
       "98410             Holly Arroyo          Arroyo_Holly@mail.com\n",
       "98674          Denise Campbell             Denise_C@gmail.com\n",
       "99887            Michael Smith            Michael.S42@aol.com\n",
       "99888       Dr. Trevor Sellers                  Dr._S@aol.com\n",
       "101569            Kayla Murphy         Kayla.Murphy@yahoo.com\n",
       "102061         Taylor Martinez    Taylor.Martinez@hotmail.com\n",
       "109511          Charles Wilson       Charles_Wilson@yahoo.com\n",
       "109590           Tyler Allison         Tyler.A@protonmail.com\n",
       "110082          Matthew Bailey         Matthew_Bailey@aol.com\n",
       "110083       Charlotte Acevedo        Charlotte_A@verizon.com\n",
       "111909         Darrell Brennan  Brennan_Darrell51@hotmail.com\n",
       "111911          Melinda Jensen         MelindaJensen@zoho.com\n",
       "113915            Terry Arnold          Arnold.Terry@zoho.com\n",
       "114770             Mary Nguyen     Nguyen.Mary@protonmail.com\n",
       "114909          Lindsay Cuevas      Lindsay.Cuevas40@mail.com\n",
       "116455       Cynthia Hernandez   CynthiaHernandez@xfinity.com\n",
       "116457          Angela Hawkins             Angela_H@gmail.com\n",
       "118817              Sue Lawson            Sue.L52@comcast.net\n",
       "119161         Alyssa Richards        Alyssa_Richards@aol.com"
      ],
      "text/html": "<div>\n<style scoped>\n    .dataframe tbody tr th:only-of-type {\n        vertical-align: middle;\n    }\n\n    .dataframe tbody tr th {\n        vertical-align: top;\n    }\n\n    .dataframe thead th {\n        text-align: right;\n    }\n</style>\n<table border=\"1\" class=\"dataframe\">\n  <thead>\n    <tr style=\"text-align: right;\">\n      <th></th>\n      <th>name</th>\n      <th>email</th>\n    </tr>\n  </thead>\n  <tbody>\n    <tr>\n      <th>7860</th>\n      <td>Amanda Harper</td>\n      <td>Amanda.H66@yahoo.com</td>\n    </tr>\n    <tr>\n      <th>11125</th>\n      <td>Laura Sanders</td>\n      <td>Sanders_Laura@hotmail.com</td>\n    </tr>\n    <tr>\n      <th>14596</th>\n      <td>Tommy Ortiz</td>\n      <td>Tommy_O@hotmail.com</td>\n    </tr>\n    <tr>\n      <th>14921</th>\n      <td>Gilbert Miller</td>\n      <td>Miller.Gilbert@aol.com</td>\n    </tr>\n    <tr>\n      <th>14922</th>\n      <td>Timothy Torres</td>\n      <td>TTorres@protonmail.com</td>\n    </tr>\n    <tr>\n      <th>24630</th>\n      <td>Jennifer Weaver</td>\n      <td>Jennifer_W@aol.com</td>\n    </tr>\n    <tr>\n      <th>27288</th>\n      <td>Crystal Horton</td>\n      <td>Crystal.H@mail.com</td>\n    </tr>\n    <tr>\n      <th>27477</th>\n      <td>Brittney Burke</td>\n      <td>Burke_Brittney16@att.com</td>\n    </tr>\n    <tr>\n      <th>29906</th>\n      <td>Cynthia Cabrera</td>\n      <td>Cabrera.Cynthia@xfinity.com</td>\n    </tr>\n    <tr>\n      <th>29949</th>\n      <td>Sarah Floyd</td>\n      <td>Sarah_F@gmail.com</td>\n    </tr>\n    <tr>\n      <th>32267</th>\n      <td>Michelle Villa</td>\n      <td>Michelle.Villa@aol.com</td>\n    </tr>\n    <tr>\n      <th>39027</th>\n      <td>Nichole Hebert</td>\n      <td>Hebert.Nichole@gmail.com</td>\n    </tr>\n    <tr>\n      <th>39129</th>\n      <td>Lindsey Mckenzie</td>\n      <td>Lindsey.Mckenzie@att.com</td>\n    </tr>\n    <tr>\n      <th>39525</th>\n      <td>Ashley Edwards</td>\n      <td>Edwards.Ashley@yahoo.com</td>\n    </tr>\n    <tr>\n      <th>70114</th>\n      <td>Christopher Torres</td>\n      <td>Torres.Christopher@gmail.com</td>\n    </tr>\n    <tr>\n      <th>78819</th>\n      <td>Mrs. Tara Sullivan DVM</td>\n      <td>Mrs..DVM@xfinity.com</td>\n    </tr>\n    <tr>\n      <th>78820</th>\n      <td>Michaela Brown</td>\n      <td>MichaelaBrown@att.com</td>\n    </tr>\n    <tr>\n      <th>78822</th>\n      <td>Kurt Maldonado MD</td>\n      <td>KMD15@xfinity.com</td>\n    </tr>\n    <tr>\n      <th>97072</th>\n      <td>Jason Richardson</td>\n      <td>Jason.R@zoho.com</td>\n    </tr>\n    <tr>\n      <th>97099</th>\n      <td>Terri Hurley</td>\n      <td>THurley@xfinity.com</td>\n    </tr>\n    <tr>\n      <th>97261</th>\n      <td>Mrs. Caitlin Webb</td>\n      <td>Mrs._W@comcast.net</td>\n    </tr>\n    <tr>\n      <th>98410</th>\n      <td>Holly Arroyo</td>\n      <td>Arroyo_Holly@mail.com</td>\n    </tr>\n    <tr>\n      <th>98674</th>\n      <td>Denise Campbell</td>\n      <td>Denise_C@gmail.com</td>\n    </tr>\n    <tr>\n      <th>99887</th>\n      <td>Michael Smith</td>\n      <td>Michael.S42@aol.com</td>\n    </tr>\n    <tr>\n      <th>99888</th>\n      <td>Dr. Trevor Sellers</td>\n      <td>Dr._S@aol.com</td>\n    </tr>\n    <tr>\n      <th>101569</th>\n      <td>Kayla Murphy</td>\n      <td>Kayla.Murphy@yahoo.com</td>\n    </tr>\n    <tr>\n      <th>102061</th>\n      <td>Taylor Martinez</td>\n      <td>Taylor.Martinez@hotmail.com</td>\n    </tr>\n    <tr>\n      <th>109511</th>\n      <td>Charles Wilson</td>\n      <td>Charles_Wilson@yahoo.com</td>\n    </tr>\n    <tr>\n      <th>109590</th>\n      <td>Tyler Allison</td>\n      <td>Tyler.A@protonmail.com</td>\n    </tr>\n    <tr>\n      <th>110082</th>\n      <td>Matthew Bailey</td>\n      <td>Matthew_Bailey@aol.com</td>\n    </tr>\n    <tr>\n      <th>110083</th>\n      <td>Charlotte Acevedo</td>\n      <td>Charlotte_A@verizon.com</td>\n    </tr>\n    <tr>\n      <th>111909</th>\n      <td>Darrell Brennan</td>\n      <td>Brennan_Darrell51@hotmail.com</td>\n    </tr>\n    <tr>\n      <th>111911</th>\n      <td>Melinda Jensen</td>\n      <td>MelindaJensen@zoho.com</td>\n    </tr>\n    <tr>\n      <th>113915</th>\n      <td>Terry Arnold</td>\n      <td>Arnold.Terry@zoho.com</td>\n    </tr>\n    <tr>\n      <th>114770</th>\n      <td>Mary Nguyen</td>\n      <td>Nguyen.Mary@protonmail.com</td>\n    </tr>\n    <tr>\n      <th>114909</th>\n      <td>Lindsay Cuevas</td>\n      <td>Lindsay.Cuevas40@mail.com</td>\n    </tr>\n    <tr>\n      <th>116455</th>\n      <td>Cynthia Hernandez</td>\n      <td>CynthiaHernandez@xfinity.com</td>\n    </tr>\n    <tr>\n      <th>116457</th>\n      <td>Angela Hawkins</td>\n      <td>Angela_H@gmail.com</td>\n    </tr>\n    <tr>\n      <th>118817</th>\n      <td>Sue Lawson</td>\n      <td>Sue.L52@comcast.net</td>\n    </tr>\n    <tr>\n      <th>119161</th>\n      <td>Alyssa Richards</td>\n      <td>Alyssa_Richards@aol.com</td>\n    </tr>\n  </tbody>\n</table>\n</div>"
     },
     "metadata": {},
     "execution_count": 58
    }
   ],
   "source": [
    "# CODE HERE\n",
    "# total_of_special_requests\n",
    "hotels[[\"name\", \"email\"]][hotels[\"total_of_special_requests\"] == 5]\n"
   ]
  },
  {
   "cell_type": "code",
   "execution_count": 56,
   "metadata": {},
   "outputs": [
    {
     "data": {
      "text/html": [
       "<div>\n",
       "<style scoped>\n",
       "    .dataframe tbody tr th:only-of-type {\n",
       "        vertical-align: middle;\n",
       "    }\n",
       "\n",
       "    .dataframe tbody tr th {\n",
       "        vertical-align: top;\n",
       "    }\n",
       "\n",
       "    .dataframe thead th {\n",
       "        text-align: right;\n",
       "    }\n",
       "</style>\n",
       "<table border=\"1\" class=\"dataframe\">\n",
       "  <thead>\n",
       "    <tr style=\"text-align: right;\">\n",
       "      <th></th>\n",
       "      <th>name</th>\n",
       "      <th>email</th>\n",
       "    </tr>\n",
       "  </thead>\n",
       "  <tbody>\n",
       "    <tr>\n",
       "      <th>7860</th>\n",
       "      <td>Amanda Harper</td>\n",
       "      <td>Amanda.H66@yahoo.com</td>\n",
       "    </tr>\n",
       "    <tr>\n",
       "      <th>11125</th>\n",
       "      <td>Laura Sanders</td>\n",
       "      <td>Sanders_Laura@hotmail.com</td>\n",
       "    </tr>\n",
       "    <tr>\n",
       "      <th>14596</th>\n",
       "      <td>Tommy Ortiz</td>\n",
       "      <td>Tommy_O@hotmail.com</td>\n",
       "    </tr>\n",
       "    <tr>\n",
       "      <th>14921</th>\n",
       "      <td>Gilbert Miller</td>\n",
       "      <td>Miller.Gilbert@aol.com</td>\n",
       "    </tr>\n",
       "    <tr>\n",
       "      <th>14922</th>\n",
       "      <td>Timothy Torres</td>\n",
       "      <td>TTorres@protonmail.com</td>\n",
       "    </tr>\n",
       "    <tr>\n",
       "      <th>24630</th>\n",
       "      <td>Jennifer Weaver</td>\n",
       "      <td>Jennifer_W@aol.com</td>\n",
       "    </tr>\n",
       "    <tr>\n",
       "      <th>27288</th>\n",
       "      <td>Crystal Horton</td>\n",
       "      <td>Crystal.H@mail.com</td>\n",
       "    </tr>\n",
       "    <tr>\n",
       "      <th>27477</th>\n",
       "      <td>Brittney Burke</td>\n",
       "      <td>Burke_Brittney16@att.com</td>\n",
       "    </tr>\n",
       "    <tr>\n",
       "      <th>29906</th>\n",
       "      <td>Cynthia Cabrera</td>\n",
       "      <td>Cabrera.Cynthia@xfinity.com</td>\n",
       "    </tr>\n",
       "    <tr>\n",
       "      <th>29949</th>\n",
       "      <td>Sarah Floyd</td>\n",
       "      <td>Sarah_F@gmail.com</td>\n",
       "    </tr>\n",
       "    <tr>\n",
       "      <th>32267</th>\n",
       "      <td>Michelle Villa</td>\n",
       "      <td>Michelle.Villa@aol.com</td>\n",
       "    </tr>\n",
       "    <tr>\n",
       "      <th>39027</th>\n",
       "      <td>Nichole Hebert</td>\n",
       "      <td>Hebert.Nichole@gmail.com</td>\n",
       "    </tr>\n",
       "    <tr>\n",
       "      <th>39129</th>\n",
       "      <td>Lindsey Mckenzie</td>\n",
       "      <td>Lindsey.Mckenzie@att.com</td>\n",
       "    </tr>\n",
       "    <tr>\n",
       "      <th>39525</th>\n",
       "      <td>Ashley Edwards</td>\n",
       "      <td>Edwards.Ashley@yahoo.com</td>\n",
       "    </tr>\n",
       "    <tr>\n",
       "      <th>70114</th>\n",
       "      <td>Christopher Torres</td>\n",
       "      <td>Torres.Christopher@gmail.com</td>\n",
       "    </tr>\n",
       "    <tr>\n",
       "      <th>78819</th>\n",
       "      <td>Mrs. Tara Sullivan DVM</td>\n",
       "      <td>Mrs..DVM@xfinity.com</td>\n",
       "    </tr>\n",
       "    <tr>\n",
       "      <th>78820</th>\n",
       "      <td>Michaela Brown</td>\n",
       "      <td>MichaelaBrown@att.com</td>\n",
       "    </tr>\n",
       "    <tr>\n",
       "      <th>78822</th>\n",
       "      <td>Kurt Maldonado MD</td>\n",
       "      <td>KMD15@xfinity.com</td>\n",
       "    </tr>\n",
       "    <tr>\n",
       "      <th>97072</th>\n",
       "      <td>Jason Richardson</td>\n",
       "      <td>Jason.R@zoho.com</td>\n",
       "    </tr>\n",
       "    <tr>\n",
       "      <th>97099</th>\n",
       "      <td>Terri Hurley</td>\n",
       "      <td>THurley@xfinity.com</td>\n",
       "    </tr>\n",
       "    <tr>\n",
       "      <th>97261</th>\n",
       "      <td>Mrs. Caitlin Webb</td>\n",
       "      <td>Mrs._W@comcast.net</td>\n",
       "    </tr>\n",
       "    <tr>\n",
       "      <th>98410</th>\n",
       "      <td>Holly Arroyo</td>\n",
       "      <td>Arroyo_Holly@mail.com</td>\n",
       "    </tr>\n",
       "    <tr>\n",
       "      <th>98674</th>\n",
       "      <td>Denise Campbell</td>\n",
       "      <td>Denise_C@gmail.com</td>\n",
       "    </tr>\n",
       "    <tr>\n",
       "      <th>99887</th>\n",
       "      <td>Michael Smith</td>\n",
       "      <td>Michael.S42@aol.com</td>\n",
       "    </tr>\n",
       "    <tr>\n",
       "      <th>99888</th>\n",
       "      <td>Dr. Trevor Sellers</td>\n",
       "      <td>Dr._S@aol.com</td>\n",
       "    </tr>\n",
       "    <tr>\n",
       "      <th>101569</th>\n",
       "      <td>Kayla Murphy</td>\n",
       "      <td>Kayla.Murphy@yahoo.com</td>\n",
       "    </tr>\n",
       "    <tr>\n",
       "      <th>102061</th>\n",
       "      <td>Taylor Martinez</td>\n",
       "      <td>Taylor.Martinez@hotmail.com</td>\n",
       "    </tr>\n",
       "    <tr>\n",
       "      <th>109511</th>\n",
       "      <td>Charles Wilson</td>\n",
       "      <td>Charles_Wilson@yahoo.com</td>\n",
       "    </tr>\n",
       "    <tr>\n",
       "      <th>109590</th>\n",
       "      <td>Tyler Allison</td>\n",
       "      <td>Tyler.A@protonmail.com</td>\n",
       "    </tr>\n",
       "    <tr>\n",
       "      <th>110082</th>\n",
       "      <td>Matthew Bailey</td>\n",
       "      <td>Matthew_Bailey@aol.com</td>\n",
       "    </tr>\n",
       "    <tr>\n",
       "      <th>110083</th>\n",
       "      <td>Charlotte Acevedo</td>\n",
       "      <td>Charlotte_A@verizon.com</td>\n",
       "    </tr>\n",
       "    <tr>\n",
       "      <th>111909</th>\n",
       "      <td>Darrell Brennan</td>\n",
       "      <td>Brennan_Darrell51@hotmail.com</td>\n",
       "    </tr>\n",
       "    <tr>\n",
       "      <th>111911</th>\n",
       "      <td>Melinda Jensen</td>\n",
       "      <td>MelindaJensen@zoho.com</td>\n",
       "    </tr>\n",
       "    <tr>\n",
       "      <th>113915</th>\n",
       "      <td>Terry Arnold</td>\n",
       "      <td>Arnold.Terry@zoho.com</td>\n",
       "    </tr>\n",
       "    <tr>\n",
       "      <th>114770</th>\n",
       "      <td>Mary Nguyen</td>\n",
       "      <td>Nguyen.Mary@protonmail.com</td>\n",
       "    </tr>\n",
       "    <tr>\n",
       "      <th>114909</th>\n",
       "      <td>Lindsay Cuevas</td>\n",
       "      <td>Lindsay.Cuevas40@mail.com</td>\n",
       "    </tr>\n",
       "    <tr>\n",
       "      <th>116455</th>\n",
       "      <td>Cynthia Hernandez</td>\n",
       "      <td>CynthiaHernandez@xfinity.com</td>\n",
       "    </tr>\n",
       "    <tr>\n",
       "      <th>116457</th>\n",
       "      <td>Angela Hawkins</td>\n",
       "      <td>Angela_H@gmail.com</td>\n",
       "    </tr>\n",
       "    <tr>\n",
       "      <th>118817</th>\n",
       "      <td>Sue Lawson</td>\n",
       "      <td>Sue.L52@comcast.net</td>\n",
       "    </tr>\n",
       "    <tr>\n",
       "      <th>119161</th>\n",
       "      <td>Alyssa Richards</td>\n",
       "      <td>Alyssa_Richards@aol.com</td>\n",
       "    </tr>\n",
       "  </tbody>\n",
       "</table>\n",
       "</div>"
      ],
      "text/plain": [
       "                          name                          email\n",
       "7860             Amanda Harper           Amanda.H66@yahoo.com\n",
       "11125            Laura Sanders      Sanders_Laura@hotmail.com\n",
       "14596              Tommy Ortiz            Tommy_O@hotmail.com\n",
       "14921           Gilbert Miller         Miller.Gilbert@aol.com\n",
       "14922           Timothy Torres         TTorres@protonmail.com\n",
       "24630          Jennifer Weaver             Jennifer_W@aol.com\n",
       "27288           Crystal Horton             Crystal.H@mail.com\n",
       "27477           Brittney Burke       Burke_Brittney16@att.com\n",
       "29906          Cynthia Cabrera    Cabrera.Cynthia@xfinity.com\n",
       "29949              Sarah Floyd              Sarah_F@gmail.com\n",
       "32267           Michelle Villa         Michelle.Villa@aol.com\n",
       "39027           Nichole Hebert       Hebert.Nichole@gmail.com\n",
       "39129         Lindsey Mckenzie       Lindsey.Mckenzie@att.com\n",
       "39525           Ashley Edwards       Edwards.Ashley@yahoo.com\n",
       "70114       Christopher Torres   Torres.Christopher@gmail.com\n",
       "78819   Mrs. Tara Sullivan DVM           Mrs..DVM@xfinity.com\n",
       "78820           Michaela Brown          MichaelaBrown@att.com\n",
       "78822        Kurt Maldonado MD              KMD15@xfinity.com\n",
       "97072         Jason Richardson               Jason.R@zoho.com\n",
       "97099             Terri Hurley            THurley@xfinity.com\n",
       "97261        Mrs. Caitlin Webb             Mrs._W@comcast.net\n",
       "98410             Holly Arroyo          Arroyo_Holly@mail.com\n",
       "98674          Denise Campbell             Denise_C@gmail.com\n",
       "99887            Michael Smith            Michael.S42@aol.com\n",
       "99888       Dr. Trevor Sellers                  Dr._S@aol.com\n",
       "101569            Kayla Murphy         Kayla.Murphy@yahoo.com\n",
       "102061         Taylor Martinez    Taylor.Martinez@hotmail.com\n",
       "109511          Charles Wilson       Charles_Wilson@yahoo.com\n",
       "109590           Tyler Allison         Tyler.A@protonmail.com\n",
       "110082          Matthew Bailey         Matthew_Bailey@aol.com\n",
       "110083       Charlotte Acevedo        Charlotte_A@verizon.com\n",
       "111909         Darrell Brennan  Brennan_Darrell51@hotmail.com\n",
       "111911          Melinda Jensen         MelindaJensen@zoho.com\n",
       "113915            Terry Arnold          Arnold.Terry@zoho.com\n",
       "114770             Mary Nguyen     Nguyen.Mary@protonmail.com\n",
       "114909          Lindsay Cuevas      Lindsay.Cuevas40@mail.com\n",
       "116455       Cynthia Hernandez   CynthiaHernandez@xfinity.com\n",
       "116457          Angela Hawkins             Angela_H@gmail.com\n",
       "118817              Sue Lawson            Sue.L52@comcast.net\n",
       "119161         Alyssa Richards        Alyssa_Richards@aol.com"
      ]
     },
     "execution_count": 56,
     "metadata": {},
     "output_type": "execute_result"
    }
   ],
   "source": []
  },
  {
   "cell_type": "markdown",
   "metadata": {},
   "source": [
    "**TASK: What percentage of hotel stays were classified as \"repeat guests\"? (Do not base this off the name of the person, but instead of the is_repeated_guest column)**"
   ]
  },
  {
   "cell_type": "code",
   "execution_count": 65,
   "metadata": {
    "collapsed": true
   },
   "outputs": [
    {
     "output_type": "execute_result",
     "data": {
      "text/plain": [
       "3.19"
      ]
     },
     "metadata": {},
     "execution_count": 65
    }
   ],
   "source": [
    "#CODE HERE\n",
    "\n",
    "round((sum(hotels[\"is_repeated_guest\"] == 1) / hotels[\"is_repeated_guest\"].count()) * 100, 2)"
   ]
  },
  {
   "cell_type": "code",
   "execution_count": 67,
   "metadata": {},
   "outputs": [
    {
     "data": {
      "text/plain": [
       "3.19"
      ]
     },
     "execution_count": 67,
     "metadata": {},
     "output_type": "execute_result"
    }
   ],
   "source": []
  },
  {
   "cell_type": "markdown",
   "metadata": {},
   "source": [
    "**TASK: What are the top 5 most common last name in the dataset? Bonus: Can you figure this out in one line of pandas code? (For simplicity treat the a title such as MD as a last name, for example Caroline Conley MD can be said to have the last name MD)**"
   ]
  },
  {
   "cell_type": "code",
   "execution_count": 69,
   "metadata": {
    "collapsed": true
   },
   "outputs": [],
   "source": [
    "#CODE HERE"
   ]
  },
  {
   "cell_type": "code",
   "execution_count": 83,
   "metadata": {},
   "outputs": [
    {
     "output_type": "execute_result",
     "data": {
      "text/plain": [
       "Smith       2510\n",
       "Johnson     1998\n",
       "Williams    1628\n",
       "Jones       1441\n",
       "Brown       1433\n",
       "Name: name, dtype: int64"
      ]
     },
     "metadata": {},
     "execution_count": 83
    }
   ],
   "source": [
    "hotels[\"name\"].str.split(' ').str[1].value_counts()[:5]"
   ]
  },
  {
   "cell_type": "code",
   "execution_count": 70,
   "metadata": {},
   "outputs": [
    {
     "data": {
      "text/plain": [
       "Smith       2510\n",
       "Johnson     1998\n",
       "Williams    1628\n",
       "Jones       1441\n",
       "Brown       1433\n",
       "Name: name, dtype: int64"
      ]
     },
     "execution_count": 70,
     "metadata": {},
     "output_type": "execute_result"
    }
   ],
   "source": []
  },
  {
   "cell_type": "markdown",
   "metadata": {},
   "source": [
    "**TASK: What are the names of the people who had booked the most number children and babies for their stay? (Don't worry if they canceled, only consider number of people reported at the time of their reservation)**"
   ]
  },
  {
   "cell_type": "code",
   "execution_count": 96,
   "metadata": {
    "collapsed": true
   },
   "outputs": [],
   "source": [
    "#CODE HERE\n",
    "hotels[\"total_kids\"] = hotels[\"babies\"] + hotels[\"children\"]"
   ]
  },
  {
   "cell_type": "code",
   "execution_count": 97,
   "metadata": {},
   "outputs": [
    {
     "output_type": "execute_result",
     "data": {
      "text/plain": [
       "                  name  adults  total_kids  babies  children\n",
       "328      Jamie Ramirez       2        10.0       0      10.0\n",
       "46619  Nicholas Parker       2        10.0      10       0.0\n",
       "78656    Marc Robinson       1         9.0       9       0.0"
      ],
      "text/html": "<div>\n<style scoped>\n    .dataframe tbody tr th:only-of-type {\n        vertical-align: middle;\n    }\n\n    .dataframe tbody tr th {\n        vertical-align: top;\n    }\n\n    .dataframe thead th {\n        text-align: right;\n    }\n</style>\n<table border=\"1\" class=\"dataframe\">\n  <thead>\n    <tr style=\"text-align: right;\">\n      <th></th>\n      <th>name</th>\n      <th>adults</th>\n      <th>total_kids</th>\n      <th>babies</th>\n      <th>children</th>\n    </tr>\n  </thead>\n  <tbody>\n    <tr>\n      <th>328</th>\n      <td>Jamie Ramirez</td>\n      <td>2</td>\n      <td>10.0</td>\n      <td>0</td>\n      <td>10.0</td>\n    </tr>\n    <tr>\n      <th>46619</th>\n      <td>Nicholas Parker</td>\n      <td>2</td>\n      <td>10.0</td>\n      <td>10</td>\n      <td>0.0</td>\n    </tr>\n    <tr>\n      <th>78656</th>\n      <td>Marc Robinson</td>\n      <td>1</td>\n      <td>9.0</td>\n      <td>9</td>\n      <td>0.0</td>\n    </tr>\n  </tbody>\n</table>\n</div>"
     },
     "metadata": {},
     "execution_count": 97
    }
   ],
   "source": [
    "hotels.sort_values(\"total_kids\", ascending= False) [[\"name\", \"adults\", \"total_kids\", \"babies\", \"children\"]][:3]\n"
   ]
  },
  {
   "cell_type": "code",
   "execution_count": 81,
   "metadata": {},
   "outputs": [
    {
     "data": {
      "text/html": [
       "<div>\n",
       "<style scoped>\n",
       "    .dataframe tbody tr th:only-of-type {\n",
       "        vertical-align: middle;\n",
       "    }\n",
       "\n",
       "    .dataframe tbody tr th {\n",
       "        vertical-align: top;\n",
       "    }\n",
       "\n",
       "    .dataframe thead th {\n",
       "        text-align: right;\n",
       "    }\n",
       "</style>\n",
       "<table border=\"1\" class=\"dataframe\">\n",
       "  <thead>\n",
       "    <tr style=\"text-align: right;\">\n",
       "      <th></th>\n",
       "      <th>name</th>\n",
       "      <th>adults</th>\n",
       "      <th>total_kids</th>\n",
       "      <th>babies</th>\n",
       "      <th>children</th>\n",
       "    </tr>\n",
       "  </thead>\n",
       "  <tbody>\n",
       "    <tr>\n",
       "      <th>328</th>\n",
       "      <td>Jamie Ramirez</td>\n",
       "      <td>2</td>\n",
       "      <td>10.0</td>\n",
       "      <td>0</td>\n",
       "      <td>10.0</td>\n",
       "    </tr>\n",
       "    <tr>\n",
       "      <th>46619</th>\n",
       "      <td>Nicholas Parker</td>\n",
       "      <td>2</td>\n",
       "      <td>10.0</td>\n",
       "      <td>10</td>\n",
       "      <td>0.0</td>\n",
       "    </tr>\n",
       "    <tr>\n",
       "      <th>78656</th>\n",
       "      <td>Marc Robinson</td>\n",
       "      <td>1</td>\n",
       "      <td>9.0</td>\n",
       "      <td>9</td>\n",
       "      <td>0.0</td>\n",
       "    </tr>\n",
       "  </tbody>\n",
       "</table>\n",
       "</div>"
      ],
      "text/plain": [
       "                  name  adults  total_kids  babies  children\n",
       "328      Jamie Ramirez       2        10.0       0      10.0\n",
       "46619  Nicholas Parker       2        10.0      10       0.0\n",
       "78656    Marc Robinson       1         9.0       9       0.0"
      ]
     },
     "execution_count": 81,
     "metadata": {},
     "output_type": "execute_result"
    }
   ],
   "source": []
  },
  {
   "cell_type": "markdown",
   "metadata": {},
   "source": [
    "**TASK: What are the top 3 most common area code in the phone numbers? (Area code is first 3 digits)**"
   ]
  },
  {
   "cell_type": "code",
   "execution_count": 82,
   "metadata": {
    "collapsed": true
   },
   "outputs": [],
   "source": [
    "#CODE HERE"
   ]
  },
  {
   "cell_type": "code",
   "execution_count": 102,
   "metadata": {},
   "outputs": [
    {
     "output_type": "execute_result",
     "data": {
      "text/plain": [
       "799    168\n",
       "185    167\n",
       "541    166\n",
       "Name: phone-number, dtype: int64"
      ]
     },
     "metadata": {},
     "execution_count": 102
    }
   ],
   "source": [
    "hotels[\"phone-number\"].str.split('-').str[0].value_counts()[:3]"
   ]
  },
  {
   "cell_type": "code",
   "execution_count": 89,
   "metadata": {},
   "outputs": [
    {
     "name": "stdout",
     "output_type": "stream",
     "text": [
      "Code - Total Count\n"
     ]
    },
    {
     "data": {
      "text/plain": [
       "799    168\n",
       "185    167\n",
       "541    166\n",
       "Name: phone-number, dtype: int64"
      ]
     },
     "execution_count": 89,
     "metadata": {},
     "output_type": "execute_result"
    }
   ],
   "source": []
  },
  {
   "cell_type": "markdown",
   "metadata": {},
   "source": [
    "**TASK: How many arrivals took place between the 1st and the 15th of the month (inclusive of 1 and 15) ? Bonus: Can you do this in one line of pandas code?**"
   ]
  },
  {
   "cell_type": "code",
   "execution_count": 90,
   "metadata": {
    "collapsed": true
   },
   "outputs": [],
   "source": [
    "#CODE HERE"
   ]
  },
  {
   "cell_type": "code",
   "execution_count": 109,
   "metadata": {},
   "outputs": [
    {
     "output_type": "execute_result",
     "data": {
      "text/plain": [
       "58152"
      ]
     },
     "metadata": {},
     "execution_count": 109
    }
   ],
   "source": [
    "hotels['arrival_date_day_of_month'].apply(lambda day: day > 0 and day < 16).sum()"
   ]
  },
  {
   "cell_type": "code",
   "execution_count": 95,
   "metadata": {},
   "outputs": [
    {
     "data": {
      "text/plain": [
       "58152"
      ]
     },
     "execution_count": 95,
     "metadata": {},
     "output_type": "execute_result"
    }
   ],
   "source": []
  },
  {
   "cell_type": "markdown",
   "metadata": {},
   "source": [
    "\n",
    "**HARD BONUS TASK: Create a table for counts for each day of the week that people arrived. (E.g. 5000 arrivals were on a Monday, 3000 were on a Tuesday, etc..)**"
   ]
  },
  {
   "cell_type": "code",
   "execution_count": 105,
   "metadata": {
    "collapsed": true
   },
   "outputs": [],
   "source": [
    "# CODE HERE"
   ]
  },
  {
   "cell_type": "code",
   "execution_count": 110,
   "metadata": {},
   "outputs": [],
   "source": [
    "import numpy as np"
   ]
  },
  {
   "cell_type": "code",
   "execution_count": 111,
   "metadata": {},
   "outputs": [],
   "source": [
    "def convert(day,month,year):\n",
    "    return f'{day}-{month}-{year}'"
   ]
  },
  {
   "cell_type": "code",
   "execution_count": 112,
   "metadata": {},
   "outputs": [],
   "source": [
    "hotels['date']  = np.vectorize(convert)(hotels['arrival_date_day_of_month'],\n",
    "                                        hotels['arrival_date_month'],\n",
    "                                        hotels['arrival_date_year'])"
   ]
  },
  {
   "cell_type": "code",
   "execution_count": 113,
   "metadata": {},
   "outputs": [],
   "source": [
    "hotels['date'] = pd.to_datetime(hotels['date'])"
   ]
  },
  {
   "cell_type": "code",
   "execution_count": 114,
   "metadata": {},
   "outputs": [
    {
     "output_type": "execute_result",
     "data": {
      "text/plain": [
       "Friday       19631\n",
       "Thursday     19254\n",
       "Monday       18171\n",
       "Saturday     18055\n",
       "Wednesday    16139\n",
       "Sunday       14141\n",
       "Tuesday      13999\n",
       "Name: date, dtype: int64"
      ]
     },
     "metadata": {},
     "execution_count": 114
    }
   ],
   "source": [
    "hotels['date'].dt.day_name().value_counts()"
   ]
  },
  {
   "cell_type": "code",
   "execution_count": 115,
   "metadata": {},
   "outputs": [
    {
     "data": {
      "text/plain": [
       "Friday       19631\n",
       "Thursday     19254\n",
       "Monday       18171\n",
       "Saturday     18055\n",
       "Wednesday    16139\n",
       "Sunday       14141\n",
       "Tuesday      13999\n",
       "Name: date, dtype: int64"
      ]
     },
     "execution_count": 115,
     "metadata": {},
     "output_type": "execute_result"
    }
   ],
   "source": []
  },
  {
   "cell_type": "markdown",
   "metadata": {
    "collapsed": true
   },
   "source": [
    "---\n",
    "\n",
    "---"
   ]
  }
 ],
 "metadata": {
  "anaconda-cloud": {},
  "kernelspec": {
   "name": "python3",
   "display_name": "Python 3.9.2 64-bit"
  },
  "language_info": {
   "codemirror_mode": {
    "name": "ipython",
    "version": 3
   },
   "file_extension": ".py",
   "mimetype": "text/x-python",
   "name": "python",
   "nbconvert_exporter": "python",
   "pygments_lexer": "ipython3",
   "version": "3.9.2"
  },
  "interpreter": {
   "hash": "8aa71f66831ae3a9c893a3b058ea0ed6f85404695a12d9a8794cb7bab518847e"
  }
 },
 "nbformat": 4,
 "nbformat_minor": 1
}