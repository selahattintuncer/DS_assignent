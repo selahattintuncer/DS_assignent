{
 "cells": [
  {
   "cell_type": "markdown",
   "id": "a4d95abc",
   "metadata": {},
   "source": [
    "# Statistic Assignment 5"
   ]
  },
  {
   "cell_type": "code",
   "execution_count": 20,
   "id": "d7234d1a",
   "metadata": {},
   "outputs": [],
   "source": [
    "import pandas as pd\n",
    "import numpy as np\n",
    "from scipy import stats\n",
    "import matplotlib.pyplot as plt\n",
    "import seaborn as sns\n",
    "from scipy.stats import f_oneway"
   ]
  },
  {
   "cell_type": "markdown",
   "id": "d7e9e043",
   "metadata": {},
   "source": [
    "## Exercise 2\n",
    "#### H0: Zeminlerin ortalama kesme dayanımına göre mukavemet ölçümleri arasında farklılık yoktur\n",
    "#### H1: Zeminlerin ortalama kesme dayanımına göre mukavemet ölçümleri arasında farklılık vardır"
   ]
  },
  {
   "cell_type": "code",
   "execution_count": 21,
   "id": "7727b856",
   "metadata": {},
   "outputs": [],
   "source": [
    "df = pd.read_csv(r\"C:\\Users\\bunya\\Downloads\\soil.csv\")"
   ]
  },
  {
   "cell_type": "code",
   "execution_count": 22,
   "id": "34f1dc06",
   "metadata": {},
   "outputs": [
    {
     "name": "stdout",
     "output_type": "stream",
     "text": [
      "<class 'pandas.core.frame.DataFrame'>\n",
      "RangeIndex: 35 entries, 0 to 34\n",
      "Data columns (total 2 columns):\n",
      " #   Column  Non-Null Count  Dtype  \n",
      "---  ------  --------------  -----  \n",
      " 0   Soil1   30 non-null     float64\n",
      " 1   Soil2   35 non-null     float64\n",
      "dtypes: float64(2)\n",
      "memory usage: 688.0 bytes\n"
     ]
    }
   ],
   "source": [
    "df.info()"
   ]
  },
  {
   "cell_type": "code",
   "execution_count": 23,
   "id": "39d7383e",
   "metadata": {},
   "outputs": [
    {
     "data": {
      "text/html": [
       "<div>\n",
       "<style scoped>\n",
       "    .dataframe tbody tr th:only-of-type {\n",
       "        vertical-align: middle;\n",
       "    }\n",
       "\n",
       "    .dataframe tbody tr th {\n",
       "        vertical-align: top;\n",
       "    }\n",
       "\n",
       "    .dataframe thead th {\n",
       "        text-align: right;\n",
       "    }\n",
       "</style>\n",
       "<table border=\"1\" class=\"dataframe\">\n",
       "  <thead>\n",
       "    <tr style=\"text-align: right;\">\n",
       "      <th></th>\n",
       "      <th>Soil1</th>\n",
       "      <th>Soil2</th>\n",
       "    </tr>\n",
       "  </thead>\n",
       "  <tbody>\n",
       "    <tr>\n",
       "      <th>count</th>\n",
       "      <td>30.000000</td>\n",
       "      <td>35.000000</td>\n",
       "    </tr>\n",
       "    <tr>\n",
       "      <th>mean</th>\n",
       "      <td>1.691800</td>\n",
       "      <td>1.417114</td>\n",
       "    </tr>\n",
       "    <tr>\n",
       "      <th>std</th>\n",
       "      <td>0.206903</td>\n",
       "      <td>0.219184</td>\n",
       "    </tr>\n",
       "    <tr>\n",
       "      <th>min</th>\n",
       "      <td>1.110000</td>\n",
       "      <td>1.053000</td>\n",
       "    </tr>\n",
       "    <tr>\n",
       "      <th>25%</th>\n",
       "      <td>1.572000</td>\n",
       "      <td>1.231000</td>\n",
       "    </tr>\n",
       "    <tr>\n",
       "      <th>50%</th>\n",
       "      <td>1.675000</td>\n",
       "      <td>1.379000</td>\n",
       "    </tr>\n",
       "    <tr>\n",
       "      <th>75%</th>\n",
       "      <td>1.865250</td>\n",
       "      <td>1.559000</td>\n",
       "    </tr>\n",
       "    <tr>\n",
       "      <th>max</th>\n",
       "      <td>2.054000</td>\n",
       "      <td>1.878000</td>\n",
       "    </tr>\n",
       "  </tbody>\n",
       "</table>\n",
       "</div>"
      ],
      "text/plain": [
       "           Soil1      Soil2\n",
       "count  30.000000  35.000000\n",
       "mean    1.691800   1.417114\n",
       "std     0.206903   0.219184\n",
       "min     1.110000   1.053000\n",
       "25%     1.572000   1.231000\n",
       "50%     1.675000   1.379000\n",
       "75%     1.865250   1.559000\n",
       "max     2.054000   1.878000"
      ]
     },
     "execution_count": 23,
     "metadata": {},
     "output_type": "execute_result"
    }
   ],
   "source": [
    "df.describe()"
   ]
  },
  {
   "cell_type": "code",
   "execution_count": 24,
   "id": "f072abac",
   "metadata": {},
   "outputs": [
    {
     "data": {
      "text/plain": [
       "Ttest_indResult(statistic=5.1681473319343345, pvalue=2.5932287323528147e-06)"
      ]
     },
     "execution_count": 24,
     "metadata": {},
     "output_type": "execute_result"
    }
   ],
   "source": [
    "stTest = stats.ttest_ind(df[\"Soil1\"], df[\"Soil2\"], nan_policy = \"omit\")\n",
    "stTest"
   ]
  },
  {
   "cell_type": "code",
   "execution_count": 25,
   "id": "1dab25f2",
   "metadata": {},
   "outputs": [
    {
     "data": {
      "text/plain": [
       "2.5932287323528147e-06"
      ]
     },
     "execution_count": 25,
     "metadata": {},
     "output_type": "execute_result"
    }
   ],
   "source": [
    "stTest.pvalue"
   ]
  },
  {
   "cell_type": "markdown",
   "id": "290b153d",
   "metadata": {},
   "source": [
    "##### alpha = 0.01, Reject to H0"
   ]
  },
  {
   "cell_type": "markdown",
   "id": "934238c6",
   "metadata": {},
   "source": [
    "### EXERCISE 3A"
   ]
  },
  {
   "cell_type": "code",
   "execution_count": 100,
   "id": "14eca5b2",
   "metadata": {},
   "outputs": [
    {
     "data": {
      "text/html": [
       "<div>\n",
       "<style scoped>\n",
       "    .dataframe tbody tr th:only-of-type {\n",
       "        vertical-align: middle;\n",
       "    }\n",
       "\n",
       "    .dataframe tbody tr th {\n",
       "        vertical-align: top;\n",
       "    }\n",
       "\n",
       "    .dataframe thead th {\n",
       "        text-align: right;\n",
       "    }\n",
       "</style>\n",
       "<table border=\"1\" class=\"dataframe\">\n",
       "  <thead>\n",
       "    <tr style=\"text-align: right;\">\n",
       "      <th></th>\n",
       "      <th>Country Code</th>\n",
       "      <th>Continent_Code</th>\n",
       "      <th>internet_users_per_100</th>\n",
       "      <th>Math</th>\n",
       "      <th>Reading</th>\n",
       "      <th>Science</th>\n",
       "    </tr>\n",
       "  </thead>\n",
       "  <tbody>\n",
       "    <tr>\n",
       "      <th>0</th>\n",
       "      <td>ALB</td>\n",
       "      <td>EU</td>\n",
       "      <td>63.252933</td>\n",
       "      <td>413.1570</td>\n",
       "      <td>405.2588</td>\n",
       "      <td>427.2250</td>\n",
       "    </tr>\n",
       "    <tr>\n",
       "      <th>1</th>\n",
       "      <td>ARE</td>\n",
       "      <td>AS</td>\n",
       "      <td>90.500000</td>\n",
       "      <td>427.4827</td>\n",
       "      <td>433.5423</td>\n",
       "      <td>436.7311</td>\n",
       "    </tr>\n",
       "    <tr>\n",
       "      <th>2</th>\n",
       "      <td>ARG</td>\n",
       "      <td>SA</td>\n",
       "      <td>68.043064</td>\n",
       "      <td>409.0333</td>\n",
       "      <td>425.3031</td>\n",
       "      <td>432.2262</td>\n",
       "    </tr>\n",
       "    <tr>\n",
       "      <th>3</th>\n",
       "      <td>AUS</td>\n",
       "      <td>OC</td>\n",
       "      <td>84.560519</td>\n",
       "      <td>493.8962</td>\n",
       "      <td>502.9006</td>\n",
       "      <td>509.9939</td>\n",
       "    </tr>\n",
       "    <tr>\n",
       "      <th>4</th>\n",
       "      <td>AUT</td>\n",
       "      <td>EU</td>\n",
       "      <td>83.940142</td>\n",
       "      <td>496.7423</td>\n",
       "      <td>484.8656</td>\n",
       "      <td>495.0375</td>\n",
       "    </tr>\n",
       "  </tbody>\n",
       "</table>\n",
       "</div>"
      ],
      "text/plain": [
       "  Country Code Continent_Code  internet_users_per_100      Math   Reading  \\\n",
       "0          ALB             EU               63.252933  413.1570  405.2588   \n",
       "1          ARE             AS               90.500000  427.4827  433.5423   \n",
       "2          ARG             SA               68.043064  409.0333  425.3031   \n",
       "3          AUS             OC               84.560519  493.8962  502.9006   \n",
       "4          AUT             EU               83.940142  496.7423  484.8656   \n",
       "\n",
       "    Science  \n",
       "0  427.2250  \n",
       "1  436.7311  \n",
       "2  432.2262  \n",
       "3  509.9939  \n",
       "4  495.0375  "
      ]
     },
     "execution_count": 100,
     "metadata": {},
     "output_type": "execute_result"
    }
   ],
   "source": [
    "pisa = pd.read_csv(r\"C:\\Users\\bunya\\Downloads\\2015 PISA Test - Sheet1.csv\")\n",
    "pisa.head(5)"
   ]
  },
  {
   "cell_type": "code",
   "execution_count": 101,
   "id": "45301031",
   "metadata": {},
   "outputs": [
    {
     "data": {
      "text/plain": [
       "Index(['Country Code', 'Continent_Code', 'internet_users_per_100', 'Math',\n",
       "       'Reading', 'Science'],\n",
       "      dtype='object')"
      ]
     },
     "execution_count": 101,
     "metadata": {},
     "output_type": "execute_result"
    }
   ],
   "source": [
    "pisa.columns"
   ]
  },
  {
   "cell_type": "code",
   "execution_count": 102,
   "id": "2624d189",
   "metadata": {},
   "outputs": [
    {
     "data": {
      "text/html": [
       "<div>\n",
       "<style scoped>\n",
       "    .dataframe tbody tr th:only-of-type {\n",
       "        vertical-align: middle;\n",
       "    }\n",
       "\n",
       "    .dataframe tbody tr th {\n",
       "        vertical-align: top;\n",
       "    }\n",
       "\n",
       "    .dataframe thead th {\n",
       "        text-align: right;\n",
       "    }\n",
       "</style>\n",
       "<table border=\"1\" class=\"dataframe\">\n",
       "  <thead>\n",
       "    <tr style=\"text-align: right;\">\n",
       "      <th></th>\n",
       "      <th>Continent_Code</th>\n",
       "      <th>AF</th>\n",
       "      <th>AS</th>\n",
       "      <th>EU</th>\n",
       "      <th>OC</th>\n",
       "      <th>SA</th>\n",
       "    </tr>\n",
       "  </thead>\n",
       "  <tbody>\n",
       "    <tr>\n",
       "      <th rowspan=\"8\" valign=\"top\">internet_users_per_100</th>\n",
       "      <th>count</th>\n",
       "      <td>2.000000</td>\n",
       "      <td>17.000000</td>\n",
       "      <td>37.000000</td>\n",
       "      <td>2.000000</td>\n",
       "      <td>7.000000</td>\n",
       "    </tr>\n",
       "    <tr>\n",
       "      <th>mean</th>\n",
       "      <td>43.359918</td>\n",
       "      <td>68.455613</td>\n",
       "      <td>77.274888</td>\n",
       "      <td>86.391704</td>\n",
       "      <td>60.180494</td>\n",
       "    </tr>\n",
       "    <tr>\n",
       "      <th>std</th>\n",
       "      <td>7.297226</td>\n",
       "      <td>21.086060</td>\n",
       "      <td>12.425773</td>\n",
       "      <td>2.589686</td>\n",
       "      <td>9.772455</td>\n",
       "    </tr>\n",
       "    <tr>\n",
       "      <th>min</th>\n",
       "      <td>38.200000</td>\n",
       "      <td>21.976068</td>\n",
       "      <td>53.744979</td>\n",
       "      <td>84.560519</td>\n",
       "      <td>40.900000</td>\n",
       "    </tr>\n",
       "    <tr>\n",
       "      <th>25%</th>\n",
       "      <td>40.779959</td>\n",
       "      <td>50.300000</td>\n",
       "      <td>68.632900</td>\n",
       "      <td>85.476112</td>\n",
       "      <td>57.116462</td>\n",
       "    </tr>\n",
       "    <tr>\n",
       "      <th>50%</th>\n",
       "      <td>43.359918</td>\n",
       "      <td>74.000000</td>\n",
       "      <td>76.184000</td>\n",
       "      <td>86.391704</td>\n",
       "      <td>64.289000</td>\n",
       "    </tr>\n",
       "    <tr>\n",
       "      <th>75%</th>\n",
       "      <td>45.939877</td>\n",
       "      <td>84.948353</td>\n",
       "      <td>87.479056</td>\n",
       "      <td>87.307296</td>\n",
       "      <td>66.321532</td>\n",
       "    </tr>\n",
       "    <tr>\n",
       "      <th>max</th>\n",
       "      <td>48.519836</td>\n",
       "      <td>92.884826</td>\n",
       "      <td>98.200000</td>\n",
       "      <td>88.222889</td>\n",
       "      <td>69.198471</td>\n",
       "    </tr>\n",
       "    <tr>\n",
       "      <th rowspan=\"8\" valign=\"top\">Math</th>\n",
       "      <th>count</th>\n",
       "      <td>2.000000</td>\n",
       "      <td>17.000000</td>\n",
       "      <td>37.000000</td>\n",
       "      <td>2.000000</td>\n",
       "      <td>7.000000</td>\n",
       "    </tr>\n",
       "    <tr>\n",
       "      <th>mean</th>\n",
       "      <td>363.212100</td>\n",
       "      <td>466.216647</td>\n",
       "      <td>477.981449</td>\n",
       "      <td>494.559750</td>\n",
       "      <td>402.887700</td>\n",
       "    </tr>\n",
       "    <tr>\n",
       "      <th>std</th>\n",
       "      <td>5.099513</td>\n",
       "      <td>64.356490</td>\n",
       "      <td>35.150403</td>\n",
       "      <td>0.938401</td>\n",
       "      <td>18.128894</td>\n",
       "    </tr>\n",
       "    <tr>\n",
       "      <th>min</th>\n",
       "      <td>359.606200</td>\n",
       "      <td>380.259000</td>\n",
       "      <td>371.311400</td>\n",
       "      <td>493.896200</td>\n",
       "      <td>377.069500</td>\n",
       "    </tr>\n",
       "    <tr>\n",
       "      <th>25%</th>\n",
       "      <td>361.409150</td>\n",
       "      <td>403.833200</td>\n",
       "      <td>464.040100</td>\n",
       "      <td>494.227975</td>\n",
       "      <td>388.102200</td>\n",
       "    </tr>\n",
       "    <tr>\n",
       "      <th>50%</th>\n",
       "      <td>363.212100</td>\n",
       "      <td>459.816000</td>\n",
       "      <td>489.728700</td>\n",
       "      <td>494.559750</td>\n",
       "      <td>409.033300</td>\n",
       "    </tr>\n",
       "    <tr>\n",
       "      <th>75%</th>\n",
       "      <td>365.015050</td>\n",
       "      <td>531.296100</td>\n",
       "      <td>503.722000</td>\n",
       "      <td>494.891525</td>\n",
       "      <td>417.617650</td>\n",
       "    </tr>\n",
       "    <tr>\n",
       "      <th>max</th>\n",
       "      <td>366.818000</td>\n",
       "      <td>564.189700</td>\n",
       "      <td>521.250600</td>\n",
       "      <td>495.223300</td>\n",
       "      <td>422.671400</td>\n",
       "    </tr>\n",
       "    <tr>\n",
       "      <th rowspan=\"8\" valign=\"top\">Reading</th>\n",
       "      <th>count</th>\n",
       "      <td>2.000000</td>\n",
       "      <td>17.000000</td>\n",
       "      <td>37.000000</td>\n",
       "      <td>2.000000</td>\n",
       "      <td>7.000000</td>\n",
       "    </tr>\n",
       "    <tr>\n",
       "      <th>mean</th>\n",
       "      <td>355.457400</td>\n",
       "      <td>454.059682</td>\n",
       "      <td>476.164608</td>\n",
       "      <td>506.085650</td>\n",
       "      <td>425.359229</td>\n",
       "    </tr>\n",
       "    <tr>\n",
       "      <th>std</th>\n",
       "      <td>7.916909</td>\n",
       "      <td>57.048962</td>\n",
       "      <td>37.720545</td>\n",
       "      <td>4.504341</td>\n",
       "      <td>19.709688</td>\n",
       "    </tr>\n",
       "    <tr>\n",
       "      <th>min</th>\n",
       "      <td>349.859300</td>\n",
       "      <td>346.549000</td>\n",
       "      <td>351.741500</td>\n",
       "      <td>502.900600</td>\n",
       "      <td>397.541400</td>\n",
       "    </tr>\n",
       "    <tr>\n",
       "      <th>25%</th>\n",
       "      <td>352.658350</td>\n",
       "      <td>408.102200</td>\n",
       "      <td>452.514300</td>\n",
       "      <td>504.493125</td>\n",
       "      <td>416.126900</td>\n",
       "    </tr>\n",
       "    <tr>\n",
       "      <th>50%</th>\n",
       "      <td>355.457400</td>\n",
       "      <td>433.542300</td>\n",
       "      <td>487.250100</td>\n",
       "      <td>506.085650</td>\n",
       "      <td>425.303100</td>\n",
       "    </tr>\n",
       "    <tr>\n",
       "      <th>75%</th>\n",
       "      <td>358.256450</td>\n",
       "      <td>508.690500</td>\n",
       "      <td>499.814600</td>\n",
       "      <td>507.678175</td>\n",
       "      <td>431.922700</td>\n",
       "    </tr>\n",
       "    <tr>\n",
       "      <th>max</th>\n",
       "      <td>361.055500</td>\n",
       "      <td>535.100200</td>\n",
       "      <td>526.424700</td>\n",
       "      <td>509.270700</td>\n",
       "      <td>458.570900</td>\n",
       "    </tr>\n",
       "    <tr>\n",
       "      <th rowspan=\"8\" valign=\"top\">Science</th>\n",
       "      <th>count</th>\n",
       "      <td>2.000000</td>\n",
       "      <td>17.000000</td>\n",
       "      <td>37.000000</td>\n",
       "      <td>2.000000</td>\n",
       "      <td>7.000000</td>\n",
       "    </tr>\n",
       "    <tr>\n",
       "      <th>mean</th>\n",
       "      <td>381.074250</td>\n",
       "      <td>467.945847</td>\n",
       "      <td>478.299381</td>\n",
       "      <td>511.648700</td>\n",
       "      <td>421.747186</td>\n",
       "    </tr>\n",
       "    <tr>\n",
       "      <th>std</th>\n",
       "      <td>7.536556</td>\n",
       "      <td>56.671371</td>\n",
       "      <td>34.450616</td>\n",
       "      <td>2.340241</td>\n",
       "      <td>18.470319</td>\n",
       "    </tr>\n",
       "    <tr>\n",
       "      <th>min</th>\n",
       "      <td>375.745100</td>\n",
       "      <td>386.485400</td>\n",
       "      <td>383.682400</td>\n",
       "      <td>509.993900</td>\n",
       "      <td>396.683600</td>\n",
       "    </tr>\n",
       "    <tr>\n",
       "      <th>25%</th>\n",
       "      <td>378.409675</td>\n",
       "      <td>417.611200</td>\n",
       "      <td>460.774900</td>\n",
       "      <td>510.821300</td>\n",
       "      <td>408.205450</td>\n",
       "    </tr>\n",
       "    <tr>\n",
       "      <th>50%</th>\n",
       "      <td>381.074250</td>\n",
       "      <td>456.483600</td>\n",
       "      <td>490.225000</td>\n",
       "      <td>511.648700</td>\n",
       "      <td>424.590500</td>\n",
       "    </tr>\n",
       "    <tr>\n",
       "      <th>75%</th>\n",
       "      <td>383.738825</td>\n",
       "      <td>523.277400</td>\n",
       "      <td>501.936900</td>\n",
       "      <td>512.476100</td>\n",
       "      <td>433.794600</td>\n",
       "    </tr>\n",
       "    <tr>\n",
       "      <th>max</th>\n",
       "      <td>386.403400</td>\n",
       "      <td>555.574700</td>\n",
       "      <td>534.193700</td>\n",
       "      <td>513.303500</td>\n",
       "      <td>446.956100</td>\n",
       "    </tr>\n",
       "  </tbody>\n",
       "</table>\n",
       "</div>"
      ],
      "text/plain": [
       "Continent_Code                        AF          AS          EU          OC  \\\n",
       "internet_users_per_100 count    2.000000   17.000000   37.000000    2.000000   \n",
       "                       mean    43.359918   68.455613   77.274888   86.391704   \n",
       "                       std      7.297226   21.086060   12.425773    2.589686   \n",
       "                       min     38.200000   21.976068   53.744979   84.560519   \n",
       "                       25%     40.779959   50.300000   68.632900   85.476112   \n",
       "                       50%     43.359918   74.000000   76.184000   86.391704   \n",
       "                       75%     45.939877   84.948353   87.479056   87.307296   \n",
       "                       max     48.519836   92.884826   98.200000   88.222889   \n",
       "Math                   count    2.000000   17.000000   37.000000    2.000000   \n",
       "                       mean   363.212100  466.216647  477.981449  494.559750   \n",
       "                       std      5.099513   64.356490   35.150403    0.938401   \n",
       "                       min    359.606200  380.259000  371.311400  493.896200   \n",
       "                       25%    361.409150  403.833200  464.040100  494.227975   \n",
       "                       50%    363.212100  459.816000  489.728700  494.559750   \n",
       "                       75%    365.015050  531.296100  503.722000  494.891525   \n",
       "                       max    366.818000  564.189700  521.250600  495.223300   \n",
       "Reading                count    2.000000   17.000000   37.000000    2.000000   \n",
       "                       mean   355.457400  454.059682  476.164608  506.085650   \n",
       "                       std      7.916909   57.048962   37.720545    4.504341   \n",
       "                       min    349.859300  346.549000  351.741500  502.900600   \n",
       "                       25%    352.658350  408.102200  452.514300  504.493125   \n",
       "                       50%    355.457400  433.542300  487.250100  506.085650   \n",
       "                       75%    358.256450  508.690500  499.814600  507.678175   \n",
       "                       max    361.055500  535.100200  526.424700  509.270700   \n",
       "Science                count    2.000000   17.000000   37.000000    2.000000   \n",
       "                       mean   381.074250  467.945847  478.299381  511.648700   \n",
       "                       std      7.536556   56.671371   34.450616    2.340241   \n",
       "                       min    375.745100  386.485400  383.682400  509.993900   \n",
       "                       25%    378.409675  417.611200  460.774900  510.821300   \n",
       "                       50%    381.074250  456.483600  490.225000  511.648700   \n",
       "                       75%    383.738825  523.277400  501.936900  512.476100   \n",
       "                       max    386.403400  555.574700  534.193700  513.303500   \n",
       "\n",
       "Continent_Code                        SA  \n",
       "internet_users_per_100 count    7.000000  \n",
       "                       mean    60.180494  \n",
       "                       std      9.772455  \n",
       "                       min     40.900000  \n",
       "                       25%     57.116462  \n",
       "                       50%     64.289000  \n",
       "                       75%     66.321532  \n",
       "                       max     69.198471  \n",
       "Math                   count    7.000000  \n",
       "                       mean   402.887700  \n",
       "                       std     18.128894  \n",
       "                       min    377.069500  \n",
       "                       25%    388.102200  \n",
       "                       50%    409.033300  \n",
       "                       75%    417.617650  \n",
       "                       max    422.671400  \n",
       "Reading                count    7.000000  \n",
       "                       mean   425.359229  \n",
       "                       std     19.709688  \n",
       "                       min    397.541400  \n",
       "                       25%    416.126900  \n",
       "                       50%    425.303100  \n",
       "                       75%    431.922700  \n",
       "                       max    458.570900  \n",
       "Science                count    7.000000  \n",
       "                       mean   421.747186  \n",
       "                       std     18.470319  \n",
       "                       min    396.683600  \n",
       "                       25%    408.205450  \n",
       "                       50%    424.590500  \n",
       "                       75%    433.794600  \n",
       "                       max    446.956100  "
      ]
     },
     "execution_count": 102,
     "metadata": {},
     "output_type": "execute_result"
    }
   ],
   "source": [
    "pisa.groupby(\"Continent_Code\").describe().T"
   ]
  },
  {
   "cell_type": "markdown",
   "id": "52c30b9a",
   "metadata": {},
   "source": [
    "### EXERCISE 3B"
   ]
  },
  {
   "cell_type": "markdown",
   "id": "e37139cc",
   "metadata": {},
   "source": [
    "#### H0: There is no difference about mean of the Asia and Europe in the context of math score\n",
    "#### H1: There is statistical difference about mean of the Asia and Europe in the context of math score"
   ]
  },
  {
   "cell_type": "code",
   "execution_count": 103,
   "id": "278737e5",
   "metadata": {},
   "outputs": [
    {
     "data": {
      "text/plain": [
       "EU    37\n",
       "AS    17\n",
       "SA     7\n",
       "AF     2\n",
       "OC     2\n",
       "Name: Continent_Code, dtype: int64"
      ]
     },
     "execution_count": 103,
     "metadata": {},
     "output_type": "execute_result"
    }
   ],
   "source": [
    "pisa.Continent_Code.value_counts()"
   ]
  },
  {
   "cell_type": "code",
   "execution_count": 104,
   "id": "041964bb",
   "metadata": {},
   "outputs": [],
   "source": [
    "pisaMath = pisa[[\"Continent_Code\", \"Math\"]]"
   ]
  },
  {
   "cell_type": "code",
   "execution_count": 105,
   "id": "8821a990",
   "metadata": {},
   "outputs": [],
   "source": [
    "AsMean = pisaMath[pisaMath[\"Continent_Code\"] == \"AS\"]\n",
    "EuMean = pisaMath[pisaMath[\"Continent_Code\"] == \"EU\"]"
   ]
  },
  {
   "cell_type": "code",
   "execution_count": 106,
   "id": "37a15343",
   "metadata": {},
   "outputs": [
    {
     "data": {
      "text/plain": [
       "Ttest_indResult(statistic=-0.870055317967983, pvalue=0.38826888111307345)"
      ]
     },
     "execution_count": 106,
     "metadata": {},
     "output_type": "execute_result"
    }
   ],
   "source": [
    "pisaTest = stats.ttest_ind(AsMean[\"Math\"], EuMean[\"Math\"])\n",
    "pisaTest"
   ]
  },
  {
   "cell_type": "code",
   "execution_count": 107,
   "id": "0fab0fc2",
   "metadata": {},
   "outputs": [
    {
     "data": {
      "text/html": [
       "<div>\n",
       "<style scoped>\n",
       "    .dataframe tbody tr th:only-of-type {\n",
       "        vertical-align: middle;\n",
       "    }\n",
       "\n",
       "    .dataframe tbody tr th {\n",
       "        vertical-align: top;\n",
       "    }\n",
       "\n",
       "    .dataframe thead th {\n",
       "        text-align: right;\n",
       "    }\n",
       "</style>\n",
       "<table border=\"1\" class=\"dataframe\">\n",
       "  <thead>\n",
       "    <tr style=\"text-align: right;\">\n",
       "      <th></th>\n",
       "      <th>Math</th>\n",
       "    </tr>\n",
       "  </thead>\n",
       "  <tbody>\n",
       "    <tr>\n",
       "      <th>count</th>\n",
       "      <td>70.000000</td>\n",
       "    </tr>\n",
       "    <tr>\n",
       "      <th>mean</th>\n",
       "      <td>460.971557</td>\n",
       "    </tr>\n",
       "    <tr>\n",
       "      <th>std</th>\n",
       "      <td>53.327205</td>\n",
       "    </tr>\n",
       "    <tr>\n",
       "      <th>min</th>\n",
       "      <td>327.702000</td>\n",
       "    </tr>\n",
       "    <tr>\n",
       "      <th>25%</th>\n",
       "      <td>417.416075</td>\n",
       "    </tr>\n",
       "    <tr>\n",
       "      <th>50%</th>\n",
       "      <td>477.607150</td>\n",
       "    </tr>\n",
       "    <tr>\n",
       "      <th>75%</th>\n",
       "      <td>500.482925</td>\n",
       "    </tr>\n",
       "    <tr>\n",
       "      <th>max</th>\n",
       "      <td>564.189700</td>\n",
       "    </tr>\n",
       "  </tbody>\n",
       "</table>\n",
       "</div>"
      ],
      "text/plain": [
       "             Math\n",
       "count   70.000000\n",
       "mean   460.971557\n",
       "std     53.327205\n",
       "min    327.702000\n",
       "25%    417.416075\n",
       "50%    477.607150\n",
       "75%    500.482925\n",
       "max    564.189700"
      ]
     },
     "execution_count": 107,
     "metadata": {},
     "output_type": "execute_result"
    }
   ],
   "source": [
    "pisaMath.describe()"
   ]
  },
  {
   "cell_type": "markdown",
   "id": "b0a49210",
   "metadata": {},
   "source": [
    "#### alpha = 0,01 düzeyinde, failed to reject H0"
   ]
  },
  {
   "cell_type": "code",
   "execution_count": 108,
   "id": "a3d266a2",
   "metadata": {},
   "outputs": [
    {
     "data": {
      "text/plain": [
       "<AxesSubplot:xlabel='Continent_Code', ylabel='Math'>"
      ]
     },
     "execution_count": 108,
     "metadata": {},
     "output_type": "execute_result"
    },
    {
     "data": {
      "image/png": "[encoded data removed]",
      "text/plain": [
       "<Figure size 432x288 with 1 Axes>"
      ]
     },
     "metadata": {
      "needs_background": "light"
     },
     "output_type": "display_data"
    }
   ],
   "source": [
    "# sns.boxplot(x = pisa[pisa[\"Continent_Code\"] == \"EU\"], y = \"Math\", data = pisa)\n",
    "sns.boxplot(x = pisa[\"Continent_Code\"], y = pisa[\"Math\"], data=pisaMath)"
   ]
  },
  {
   "cell_type": "code",
   "execution_count": 115,
   "id": "f464674c",
   "metadata": {},
   "outputs": [
    {
     "data": {
      "image/png": "[encoded data removed]",
      "text/plain": [
       "<Figure size 432x288 with 1 Axes>"
      ]
     },
     "metadata": {
      "needs_background": "light"
     },
     "output_type": "display_data"
    }
   ],
   "source": [
    "pisa[\"Eu_Math\"] = pisa[\"Continent_Code\"].isin([\"EU\"]).count()\n",
    "ax = sns.scatterplot(x = \"Eu_Math\", y = \"Math\", data = pisa)"
   ]
  },
  {
   "cell_type": "code",
   "execution_count": 96,
   "id": "c06971f3",
   "metadata": {},
   "outputs": [
    {
     "ename": "ValueError",
     "evalue": "The truth value of a Series is ambiguous. Use a.empty, a.bool(), a.item(), a.any() or a.all().",
     "output_type": "error",
     "traceback": [
      "\u001b[1;31m---------------------------------------------------------------------------\u001b[0m",
      "\u001b[1;31mValueError\u001b[0m                                Traceback (most recent call last)",
      "\u001b[1;32m<ipython-input-96-aed71c3bf976>\u001b[0m in \u001b[0;36m<module>\u001b[1;34m\u001b[0m\n\u001b[0;32m      1\u001b[0m \u001b[0mpisa\u001b[0m\u001b[1;33m[\u001b[0m\u001b[1;34m\"Continent_Code\"\u001b[0m\u001b[1;33m]\u001b[0m \u001b[1;33m=\u001b[0m \u001b[0mpisa\u001b[0m\u001b[1;33m[\u001b[0m\u001b[1;34m\"Continent_Code\"\u001b[0m\u001b[1;33m]\u001b[0m\u001b[1;33m.\u001b[0m\u001b[0misin\u001b[0m\u001b[1;33m(\u001b[0m\u001b[1;33m[\u001b[0m\u001b[1;34m\"AS\"\u001b[0m\u001b[1;33m]\u001b[0m\u001b[1;33m)\u001b[0m\u001b[1;33m\u001b[0m\u001b[1;33m\u001b[0m\u001b[0m\n\u001b[1;32m----> 2\u001b[1;33m \u001b[0max1\u001b[0m \u001b[1;33m=\u001b[0m \u001b[0msns\u001b[0m\u001b[1;33m.\u001b[0m\u001b[0mboxplot\u001b[0m\u001b[1;33m(\u001b[0m\u001b[0mx\u001b[0m \u001b[1;33m=\u001b[0m \u001b[0mpisa\u001b[0m\u001b[1;33m[\u001b[0m\u001b[1;34m\"Continent_Code\"\u001b[0m\u001b[1;33m]\u001b[0m\u001b[1;33m.\u001b[0m\u001b[0misin\u001b[0m\u001b[1;33m(\u001b[0m\u001b[1;33m[\u001b[0m\u001b[1;34m\"AS\"\u001b[0m\u001b[1;33m]\u001b[0m\u001b[1;33m)\u001b[0m\u001b[1;33m,\u001b[0m \u001b[0my\u001b[0m \u001b[1;33m=\u001b[0m \u001b[1;34m\"Math\"\u001b[0m\u001b[1;33m,\u001b[0m \u001b[0mdata\u001b[0m \u001b[1;33m=\u001b[0m\u001b[0mpisa\u001b[0m\u001b[1;33m)\u001b[0m\u001b[1;33m\u001b[0m\u001b[1;33m\u001b[0m\u001b[0m\n\u001b[0m",
      "\u001b[1;32m~\\anaconda3\\lib\\site-packages\\seaborn\\_decorators.py\u001b[0m in \u001b[0;36minner_f\u001b[1;34m(*args, **kwargs)\u001b[0m\n\u001b[0;32m     44\u001b[0m             )\n\u001b[0;32m     45\u001b[0m         \u001b[0mkwargs\u001b[0m\u001b[1;33m.\u001b[0m\u001b[0mupdate\u001b[0m\u001b[1;33m(\u001b[0m\u001b[1;33m{\u001b[0m\u001b[0mk\u001b[0m\u001b[1;33m:\u001b[0m \u001b[0marg\u001b[0m \u001b[1;32mfor\u001b[0m \u001b[0mk\u001b[0m\u001b[1;33m,\u001b[0m \u001b[0marg\u001b[0m \u001b[1;32min\u001b[0m \u001b[0mzip\u001b[0m\u001b[1;33m(\u001b[0m\u001b[0msig\u001b[0m\u001b[1;33m.\u001b[0m\u001b[0mparameters\u001b[0m\u001b[1;33m,\u001b[0m \u001b[0margs\u001b[0m\u001b[1;33m)\u001b[0m\u001b[1;33m}\u001b[0m\u001b[1;33m)\u001b[0m\u001b[1;33m\u001b[0m\u001b[1;33m\u001b[0m\u001b[0m\n\u001b[1;32m---> 46\u001b[1;33m         \u001b[1;32mreturn\u001b[0m \u001b[0mf\u001b[0m\u001b[1;33m(\u001b[0m\u001b[1;33m**\u001b[0m\u001b[0mkwargs\u001b[0m\u001b[1;33m)\u001b[0m\u001b[1;33m\u001b[0m\u001b[1;33m\u001b[0m\u001b[0m\n\u001b[0m\u001b[0;32m     47\u001b[0m     \u001b[1;32mreturn\u001b[0m \u001b[0minner_f\u001b[0m\u001b[1;33m\u001b[0m\u001b[1;33m\u001b[0m\u001b[0m\n\u001b[0;32m     48\u001b[0m \u001b[1;33m\u001b[0m\u001b[0m\n",
      "\u001b[1;32m~\\anaconda3\\lib\\site-packages\\seaborn\\categorical.py\u001b[0m in \u001b[0;36mboxplot\u001b[1;34m(x, y, hue, data, order, hue_order, orient, color, palette, saturation, width, dodge, fliersize, linewidth, whis, ax, **kwargs)\u001b[0m\n\u001b[0;32m   2238\u001b[0m ):\n\u001b[0;32m   2239\u001b[0m \u001b[1;33m\u001b[0m\u001b[0m\n\u001b[1;32m-> 2240\u001b[1;33m     plotter = _BoxPlotter(x, y, hue, data, order, hue_order,\n\u001b[0m\u001b[0;32m   2241\u001b[0m                           \u001b[0morient\u001b[0m\u001b[1;33m,\u001b[0m \u001b[0mcolor\u001b[0m\u001b[1;33m,\u001b[0m \u001b[0mpalette\u001b[0m\u001b[1;33m,\u001b[0m \u001b[0msaturation\u001b[0m\u001b[1;33m,\u001b[0m\u001b[1;33m\u001b[0m\u001b[1;33m\u001b[0m\u001b[0m\n\u001b[0;32m   2242\u001b[0m                           width, dodge, fliersize, linewidth)\n",
      "\u001b[1;32m~\\anaconda3\\lib\\site-packages\\seaborn\\categorical.py\u001b[0m in \u001b[0;36m__init__\u001b[1;34m(self, x, y, hue, data, order, hue_order, orient, color, palette, saturation, width, dodge, fliersize, linewidth)\u001b[0m\n\u001b[0;32m    404\u001b[0m                  width, dodge, fliersize, linewidth):\n\u001b[0;32m    405\u001b[0m \u001b[1;33m\u001b[0m\u001b[0m\n\u001b[1;32m--> 406\u001b[1;33m         \u001b[0mself\u001b[0m\u001b[1;33m.\u001b[0m\u001b[0mestablish_variables\u001b[0m\u001b[1;33m(\u001b[0m\u001b[0mx\u001b[0m\u001b[1;33m,\u001b[0m \u001b[0my\u001b[0m\u001b[1;33m,\u001b[0m \u001b[0mhue\u001b[0m\u001b[1;33m,\u001b[0m \u001b[0mdata\u001b[0m\u001b[1;33m,\u001b[0m \u001b[0morient\u001b[0m\u001b[1;33m,\u001b[0m \u001b[0morder\u001b[0m\u001b[1;33m,\u001b[0m \u001b[0mhue_order\u001b[0m\u001b[1;33m)\u001b[0m\u001b[1;33m\u001b[0m\u001b[1;33m\u001b[0m\u001b[0m\n\u001b[0m\u001b[0;32m    407\u001b[0m         \u001b[0mself\u001b[0m\u001b[1;33m.\u001b[0m\u001b[0mestablish_colors\u001b[0m\u001b[1;33m(\u001b[0m\u001b[0mcolor\u001b[0m\u001b[1;33m,\u001b[0m \u001b[0mpalette\u001b[0m\u001b[1;33m,\u001b[0m \u001b[0msaturation\u001b[0m\u001b[1;33m)\u001b[0m\u001b[1;33m\u001b[0m\u001b[1;33m\u001b[0m\u001b[0m\n\u001b[0;32m    408\u001b[0m \u001b[1;33m\u001b[0m\u001b[0m\n",
      "\u001b[1;32m~\\anaconda3\\lib\\site-packages\\seaborn\\categorical.py\u001b[0m in \u001b[0;36mestablish_variables\u001b[1;34m(self, x, y, hue, data, orient, order, hue_order, units)\u001b[0m\n\u001b[0;32m    154\u001b[0m \u001b[1;33m\u001b[0m\u001b[0m\n\u001b[0;32m    155\u001b[0m             \u001b[1;31m# Figure out the plotting orientation\u001b[0m\u001b[1;33m\u001b[0m\u001b[1;33m\u001b[0m\u001b[1;33m\u001b[0m\u001b[0m\n\u001b[1;32m--> 156\u001b[1;33m             orient = infer_orient(\n\u001b[0m\u001b[0;32m    157\u001b[0m                 \u001b[0mx\u001b[0m\u001b[1;33m,\u001b[0m \u001b[0my\u001b[0m\u001b[1;33m,\u001b[0m \u001b[0morient\u001b[0m\u001b[1;33m,\u001b[0m \u001b[0mrequire_numeric\u001b[0m\u001b[1;33m=\u001b[0m\u001b[0mself\u001b[0m\u001b[1;33m.\u001b[0m\u001b[0mrequire_numeric\u001b[0m\u001b[1;33m\u001b[0m\u001b[1;33m\u001b[0m\u001b[0m\n\u001b[0;32m    158\u001b[0m             )\n",
      "\u001b[1;32m~\\anaconda3\\lib\\site-packages\\seaborn\\_core.py\u001b[0m in \u001b[0;36minfer_orient\u001b[1;34m(x, y, orient, require_numeric)\u001b[0m\n\u001b[0;32m   1302\u001b[0m     \"\"\"\n\u001b[0;32m   1303\u001b[0m \u001b[1;33m\u001b[0m\u001b[0m\n\u001b[1;32m-> 1304\u001b[1;33m     \u001b[0mx_type\u001b[0m \u001b[1;33m=\u001b[0m \u001b[1;32mNone\u001b[0m \u001b[1;32mif\u001b[0m \u001b[0mx\u001b[0m \u001b[1;32mis\u001b[0m \u001b[1;32mNone\u001b[0m \u001b[1;32melse\u001b[0m \u001b[0mvariable_type\u001b[0m\u001b[1;33m(\u001b[0m\u001b[0mx\u001b[0m\u001b[1;33m)\u001b[0m\u001b[1;33m\u001b[0m\u001b[1;33m\u001b[0m\u001b[0m\n\u001b[0m\u001b[0;32m   1305\u001b[0m     \u001b[0my_type\u001b[0m \u001b[1;33m=\u001b[0m \u001b[1;32mNone\u001b[0m \u001b[1;32mif\u001b[0m \u001b[0my\u001b[0m \u001b[1;32mis\u001b[0m \u001b[1;32mNone\u001b[0m \u001b[1;32melse\u001b[0m \u001b[0mvariable_type\u001b[0m\u001b[1;33m(\u001b[0m\u001b[0my\u001b[0m\u001b[1;33m)\u001b[0m\u001b[1;33m\u001b[0m\u001b[1;33m\u001b[0m\u001b[0m\n\u001b[0;32m   1306\u001b[0m \u001b[1;33m\u001b[0m\u001b[0m\n",
      "\u001b[1;32m~\\anaconda3\\lib\\site-packages\\seaborn\\_core.py\u001b[0m in \u001b[0;36mvariable_type\u001b[1;34m(vector, boolean_type)\u001b[0m\n\u001b[0;32m   1220\u001b[0m \u001b[1;33m\u001b[0m\u001b[0m\n\u001b[0;32m   1221\u001b[0m     \u001b[1;31m# Special-case all-na data, which is always \"numeric\"\u001b[0m\u001b[1;33m\u001b[0m\u001b[1;33m\u001b[0m\u001b[1;33m\u001b[0m\u001b[0m\n\u001b[1;32m-> 1222\u001b[1;33m     \u001b[1;32mif\u001b[0m \u001b[0mpd\u001b[0m\u001b[1;33m.\u001b[0m\u001b[0misna\u001b[0m\u001b[1;33m(\u001b[0m\u001b[0mvector\u001b[0m\u001b[1;33m)\u001b[0m\u001b[1;33m.\u001b[0m\u001b[0mall\u001b[0m\u001b[1;33m(\u001b[0m\u001b[1;33m)\u001b[0m\u001b[1;33m:\u001b[0m\u001b[1;33m\u001b[0m\u001b[1;33m\u001b[0m\u001b[0m\n\u001b[0m\u001b[0;32m   1223\u001b[0m         \u001b[1;32mreturn\u001b[0m \u001b[1;34m\"numeric\"\u001b[0m\u001b[1;33m\u001b[0m\u001b[1;33m\u001b[0m\u001b[0m\n\u001b[0;32m   1224\u001b[0m \u001b[1;33m\u001b[0m\u001b[0m\n",
      "\u001b[1;32m~\\anaconda3\\lib\\site-packages\\pandas\\core\\generic.py\u001b[0m in \u001b[0;36m__nonzero__\u001b[1;34m(self)\u001b[0m\n\u001b[0;32m   1440\u001b[0m     \u001b[1;33m@\u001b[0m\u001b[0mfinal\u001b[0m\u001b[1;33m\u001b[0m\u001b[1;33m\u001b[0m\u001b[0m\n\u001b[0;32m   1441\u001b[0m     \u001b[1;32mdef\u001b[0m \u001b[0m__nonzero__\u001b[0m\u001b[1;33m(\u001b[0m\u001b[0mself\u001b[0m\u001b[1;33m)\u001b[0m\u001b[1;33m:\u001b[0m\u001b[1;33m\u001b[0m\u001b[1;33m\u001b[0m\u001b[0m\n\u001b[1;32m-> 1442\u001b[1;33m         raise ValueError(\n\u001b[0m\u001b[0;32m   1443\u001b[0m             \u001b[1;34mf\"The truth value of a {type(self).__name__} is ambiguous. \"\u001b[0m\u001b[1;33m\u001b[0m\u001b[1;33m\u001b[0m\u001b[0m\n\u001b[0;32m   1444\u001b[0m             \u001b[1;34m\"Use a.empty, a.bool(), a.item(), a.any() or a.all().\"\u001b[0m\u001b[1;33m\u001b[0m\u001b[1;33m\u001b[0m\u001b[0m\n",
      "\u001b[1;31mValueError\u001b[0m: The truth value of a Series is ambiguous. Use a.empty, a.bool(), a.item(), a.any() or a.all()."
     ]
    }
   ],
   "source": [
    "pisa[\"As_Math\"] = pisa[\"Continent_Code\"].isin([\"AS\"]).count()\n",
    "ax = sns.boxplot(x = \"Eu_Math\", y = \"Math\", data = pisa)"
   ]
  },
  {
   "cell_type": "code",
   "execution_count": 134,
   "id": "010fac37",
   "metadata": {},
   "outputs": [
    {
     "ename": "TypeError",
     "evalue": "Cannot perform 'rand_' with a dtyped [object] array and scalar of type [bool]",
     "output_type": "error",
     "traceback": [
      "\u001b[1;31m---------------------------------------------------------------------------\u001b[0m",
      "\u001b[1;31mTypeError\u001b[0m                                 Traceback (most recent call last)",
      "\u001b[1;32m~\\anaconda3\\lib\\site-packages\\pandas\\core\\ops\\array_ops.py\u001b[0m in \u001b[0;36mna_logical_op\u001b[1;34m(x, y, op)\u001b[0m\n\u001b[0;32m    264\u001b[0m         \u001b[1;31m#  (xint or xbool) and (yint or bool)\u001b[0m\u001b[1;33m\u001b[0m\u001b[1;33m\u001b[0m\u001b[1;33m\u001b[0m\u001b[0m\n\u001b[1;32m--> 265\u001b[1;33m         \u001b[0mresult\u001b[0m \u001b[1;33m=\u001b[0m \u001b[0mop\u001b[0m\u001b[1;33m(\u001b[0m\u001b[0mx\u001b[0m\u001b[1;33m,\u001b[0m \u001b[0my\u001b[0m\u001b[1;33m)\u001b[0m\u001b[1;33m\u001b[0m\u001b[1;33m\u001b[0m\u001b[0m\n\u001b[0m\u001b[0;32m    266\u001b[0m     \u001b[1;32mexcept\u001b[0m \u001b[0mTypeError\u001b[0m\u001b[1;33m:\u001b[0m\u001b[1;33m\u001b[0m\u001b[1;33m\u001b[0m\u001b[0m\n",
      "\u001b[1;32m~\\anaconda3\\lib\\site-packages\\pandas\\core\\ops\\roperator.py\u001b[0m in \u001b[0;36mrand_\u001b[1;34m(left, right)\u001b[0m\n\u001b[0;32m     51\u001b[0m \u001b[1;32mdef\u001b[0m \u001b[0mrand_\u001b[0m\u001b[1;33m(\u001b[0m\u001b[0mleft\u001b[0m\u001b[1;33m,\u001b[0m \u001b[0mright\u001b[0m\u001b[1;33m)\u001b[0m\u001b[1;33m:\u001b[0m\u001b[1;33m\u001b[0m\u001b[1;33m\u001b[0m\u001b[0m\n\u001b[1;32m---> 52\u001b[1;33m     \u001b[1;32mreturn\u001b[0m \u001b[0moperator\u001b[0m\u001b[1;33m.\u001b[0m\u001b[0mand_\u001b[0m\u001b[1;33m(\u001b[0m\u001b[0mright\u001b[0m\u001b[1;33m,\u001b[0m \u001b[0mleft\u001b[0m\u001b[1;33m)\u001b[0m\u001b[1;33m\u001b[0m\u001b[1;33m\u001b[0m\u001b[0m\n\u001b[0m\u001b[0;32m     53\u001b[0m \u001b[1;33m\u001b[0m\u001b[0m\n",
      "\u001b[1;31mTypeError\u001b[0m: unsupported operand type(s) for &: 'str' and 'str'",
      "\nDuring handling of the above exception, another exception occurred:\n",
      "\u001b[1;31mTypeError\u001b[0m                                 Traceback (most recent call last)",
      "\u001b[1;32m~\\anaconda3\\lib\\site-packages\\pandas\\core\\ops\\array_ops.py\u001b[0m in \u001b[0;36mna_logical_op\u001b[1;34m(x, y, op)\u001b[0m\n\u001b[0;32m    278\u001b[0m             \u001b[1;32mtry\u001b[0m\u001b[1;33m:\u001b[0m\u001b[1;33m\u001b[0m\u001b[1;33m\u001b[0m\u001b[0m\n\u001b[1;32m--> 279\u001b[1;33m                 \u001b[0mresult\u001b[0m \u001b[1;33m=\u001b[0m \u001b[0mlibops\u001b[0m\u001b[1;33m.\u001b[0m\u001b[0mscalar_binop\u001b[0m\u001b[1;33m(\u001b[0m\u001b[0mx\u001b[0m\u001b[1;33m,\u001b[0m \u001b[0my\u001b[0m\u001b[1;33m,\u001b[0m \u001b[0mop\u001b[0m\u001b[1;33m)\u001b[0m\u001b[1;33m\u001b[0m\u001b[1;33m\u001b[0m\u001b[0m\n\u001b[0m\u001b[0;32m    280\u001b[0m             except (\n",
      "\u001b[1;32mpandas\\_libs\\ops.pyx\u001b[0m in \u001b[0;36mpandas._libs.ops.scalar_binop\u001b[1;34m()\u001b[0m\n",
      "\u001b[1;32m~\\anaconda3\\lib\\site-packages\\pandas\\core\\ops\\roperator.py\u001b[0m in \u001b[0;36mrand_\u001b[1;34m(left, right)\u001b[0m\n\u001b[0;32m     51\u001b[0m \u001b[1;32mdef\u001b[0m \u001b[0mrand_\u001b[0m\u001b[1;33m(\u001b[0m\u001b[0mleft\u001b[0m\u001b[1;33m,\u001b[0m \u001b[0mright\u001b[0m\u001b[1;33m)\u001b[0m\u001b[1;33m:\u001b[0m\u001b[1;33m\u001b[0m\u001b[1;33m\u001b[0m\u001b[0m\n\u001b[1;32m---> 52\u001b[1;33m     \u001b[1;32mreturn\u001b[0m \u001b[0moperator\u001b[0m\u001b[1;33m.\u001b[0m\u001b[0mand_\u001b[0m\u001b[1;33m(\u001b[0m\u001b[0mright\u001b[0m\u001b[1;33m,\u001b[0m \u001b[0mleft\u001b[0m\u001b[1;33m)\u001b[0m\u001b[1;33m\u001b[0m\u001b[1;33m\u001b[0m\u001b[0m\n\u001b[0m\u001b[0;32m     53\u001b[0m \u001b[1;33m\u001b[0m\u001b[0m\n",
      "\u001b[1;31mTypeError\u001b[0m: unsupported operand type(s) for &: 'bool' and 'str'",
      "\nThe above exception was the direct cause of the following exception:\n",
      "\u001b[1;31mTypeError\u001b[0m                                 Traceback (most recent call last)",
      "\u001b[1;32m<ipython-input-134-f3b5a54da87a>\u001b[0m in \u001b[0;36m<module>\u001b[1;34m\u001b[0m\n\u001b[1;32m----> 1\u001b[1;33m \u001b[0maa\u001b[0m \u001b[1;33m=\u001b[0m \u001b[0mpisa\u001b[0m\u001b[1;33m[\u001b[0m\u001b[0mpisa\u001b[0m\u001b[1;33m[\u001b[0m\u001b[1;34m\"Continent_Code\"\u001b[0m\u001b[1;33m]\u001b[0m \u001b[1;33m==\u001b[0m \u001b[1;34m\"EU\"\u001b[0m \u001b[1;33m&\u001b[0m \u001b[0mpisa\u001b[0m\u001b[1;33m[\u001b[0m\u001b[1;34m\"Continent_Code\"\u001b[0m \u001b[1;33m]\u001b[0m \u001b[1;33m==\u001b[0m \u001b[1;34m\"AS\"\u001b[0m\u001b[1;33m]\u001b[0m\u001b[1;33m\u001b[0m\u001b[1;33m\u001b[0m\u001b[0m\n\u001b[0m\u001b[0;32m      2\u001b[0m \u001b[1;31m# aa = pisa[\"Continent_Code\"].isin([\"AS\", \"EU\"])\u001b[0m\u001b[1;33m\u001b[0m\u001b[1;33m\u001b[0m\u001b[1;33m\u001b[0m\u001b[0m\n\u001b[0;32m      3\u001b[0m \u001b[0maa\u001b[0m\u001b[1;33m\u001b[0m\u001b[1;33m\u001b[0m\u001b[0m\n\u001b[0;32m      4\u001b[0m \u001b[0mpisa\u001b[0m\u001b[1;33m.\u001b[0m\u001b[0mboxplot\u001b[0m\u001b[1;33m(\u001b[0m\u001b[0mby\u001b[0m \u001b[1;33m=\u001b[0m\u001b[1;34m'Continent_Code'\u001b[0m\u001b[1;33m,\u001b[0m \u001b[0mcolumn\u001b[0m \u001b[1;33m=\u001b[0m\u001b[1;33m[\u001b[0m\u001b[1;34m'Math'\u001b[0m\u001b[1;33m]\u001b[0m\u001b[1;33m,\u001b[0m \u001b[0mgrid\u001b[0m \u001b[1;33m=\u001b[0m \u001b[1;32mFalse\u001b[0m\u001b[1;33m)\u001b[0m\u001b[1;33m\u001b[0m\u001b[1;33m\u001b[0m\u001b[0m\n",
      "\u001b[1;32m~\\anaconda3\\lib\\site-packages\\pandas\\core\\ops\\common.py\u001b[0m in \u001b[0;36mnew_method\u001b[1;34m(self, other)\u001b[0m\n\u001b[0;32m     63\u001b[0m         \u001b[0mother\u001b[0m \u001b[1;33m=\u001b[0m \u001b[0mitem_from_zerodim\u001b[0m\u001b[1;33m(\u001b[0m\u001b[0mother\u001b[0m\u001b[1;33m)\u001b[0m\u001b[1;33m\u001b[0m\u001b[1;33m\u001b[0m\u001b[0m\n\u001b[0;32m     64\u001b[0m \u001b[1;33m\u001b[0m\u001b[0m\n\u001b[1;32m---> 65\u001b[1;33m         \u001b[1;32mreturn\u001b[0m \u001b[0mmethod\u001b[0m\u001b[1;33m(\u001b[0m\u001b[0mself\u001b[0m\u001b[1;33m,\u001b[0m \u001b[0mother\u001b[0m\u001b[1;33m)\u001b[0m\u001b[1;33m\u001b[0m\u001b[1;33m\u001b[0m\u001b[0m\n\u001b[0m\u001b[0;32m     66\u001b[0m \u001b[1;33m\u001b[0m\u001b[0m\n\u001b[0;32m     67\u001b[0m     \u001b[1;32mreturn\u001b[0m \u001b[0mnew_method\u001b[0m\u001b[1;33m\u001b[0m\u001b[1;33m\u001b[0m\u001b[0m\n",
      "\u001b[1;32m~\\anaconda3\\lib\\site-packages\\pandas\\core\\arraylike.py\u001b[0m in \u001b[0;36m__rand__\u001b[1;34m(self, other)\u001b[0m\n\u001b[0;32m     61\u001b[0m     \u001b[1;33m@\u001b[0m\u001b[0munpack_zerodim_and_defer\u001b[0m\u001b[1;33m(\u001b[0m\u001b[1;34m\"__rand__\"\u001b[0m\u001b[1;33m)\u001b[0m\u001b[1;33m\u001b[0m\u001b[1;33m\u001b[0m\u001b[0m\n\u001b[0;32m     62\u001b[0m     \u001b[1;32mdef\u001b[0m \u001b[0m__rand__\u001b[0m\u001b[1;33m(\u001b[0m\u001b[0mself\u001b[0m\u001b[1;33m,\u001b[0m \u001b[0mother\u001b[0m\u001b[1;33m)\u001b[0m\u001b[1;33m:\u001b[0m\u001b[1;33m\u001b[0m\u001b[1;33m\u001b[0m\u001b[0m\n\u001b[1;32m---> 63\u001b[1;33m         \u001b[1;32mreturn\u001b[0m \u001b[0mself\u001b[0m\u001b[1;33m.\u001b[0m\u001b[0m_logical_method\u001b[0m\u001b[1;33m(\u001b[0m\u001b[0mother\u001b[0m\u001b[1;33m,\u001b[0m \u001b[0mroperator\u001b[0m\u001b[1;33m.\u001b[0m\u001b[0mrand_\u001b[0m\u001b[1;33m)\u001b[0m\u001b[1;33m\u001b[0m\u001b[1;33m\u001b[0m\u001b[0m\n\u001b[0m\u001b[0;32m     64\u001b[0m \u001b[1;33m\u001b[0m\u001b[0m\n\u001b[0;32m     65\u001b[0m     \u001b[1;33m@\u001b[0m\u001b[0munpack_zerodim_and_defer\u001b[0m\u001b[1;33m(\u001b[0m\u001b[1;34m\"__or__\"\u001b[0m\u001b[1;33m)\u001b[0m\u001b[1;33m\u001b[0m\u001b[1;33m\u001b[0m\u001b[0m\n",
      "\u001b[1;32m~\\anaconda3\\lib\\site-packages\\pandas\\core\\series.py\u001b[0m in \u001b[0;36m_logical_method\u001b[1;34m(self, other, op)\u001b[0m\n\u001b[0;32m   4987\u001b[0m         \u001b[0mrvalues\u001b[0m \u001b[1;33m=\u001b[0m \u001b[0mextract_array\u001b[0m\u001b[1;33m(\u001b[0m\u001b[0mother\u001b[0m\u001b[1;33m,\u001b[0m \u001b[0mextract_numpy\u001b[0m\u001b[1;33m=\u001b[0m\u001b[1;32mTrue\u001b[0m\u001b[1;33m)\u001b[0m\u001b[1;33m\u001b[0m\u001b[1;33m\u001b[0m\u001b[0m\n\u001b[0;32m   4988\u001b[0m \u001b[1;33m\u001b[0m\u001b[0m\n\u001b[1;32m-> 4989\u001b[1;33m         \u001b[0mres_values\u001b[0m \u001b[1;33m=\u001b[0m \u001b[0mops\u001b[0m\u001b[1;33m.\u001b[0m\u001b[0mlogical_op\u001b[0m\u001b[1;33m(\u001b[0m\u001b[0mlvalues\u001b[0m\u001b[1;33m,\u001b[0m \u001b[0mrvalues\u001b[0m\u001b[1;33m,\u001b[0m \u001b[0mop\u001b[0m\u001b[1;33m)\u001b[0m\u001b[1;33m\u001b[0m\u001b[1;33m\u001b[0m\u001b[0m\n\u001b[0m\u001b[0;32m   4990\u001b[0m         \u001b[1;32mreturn\u001b[0m \u001b[0mself\u001b[0m\u001b[1;33m.\u001b[0m\u001b[0m_construct_result\u001b[0m\u001b[1;33m(\u001b[0m\u001b[0mres_values\u001b[0m\u001b[1;33m,\u001b[0m \u001b[0mname\u001b[0m\u001b[1;33m=\u001b[0m\u001b[0mres_name\u001b[0m\u001b[1;33m)\u001b[0m\u001b[1;33m\u001b[0m\u001b[1;33m\u001b[0m\u001b[0m\n\u001b[0;32m   4991\u001b[0m \u001b[1;33m\u001b[0m\u001b[0m\n",
      "\u001b[1;32m~\\anaconda3\\lib\\site-packages\\pandas\\core\\ops\\array_ops.py\u001b[0m in \u001b[0;36mlogical_op\u001b[1;34m(left, right, op)\u001b[0m\n\u001b[0;32m    353\u001b[0m         \u001b[0mfiller\u001b[0m \u001b[1;33m=\u001b[0m \u001b[0mfill_int\u001b[0m \u001b[1;32mif\u001b[0m \u001b[0mis_self_int_dtype\u001b[0m \u001b[1;32mand\u001b[0m \u001b[0mis_other_int_dtype\u001b[0m \u001b[1;32melse\u001b[0m \u001b[0mfill_bool\u001b[0m\u001b[1;33m\u001b[0m\u001b[1;33m\u001b[0m\u001b[0m\n\u001b[0;32m    354\u001b[0m \u001b[1;33m\u001b[0m\u001b[0m\n\u001b[1;32m--> 355\u001b[1;33m         \u001b[0mres_values\u001b[0m \u001b[1;33m=\u001b[0m \u001b[0mna_logical_op\u001b[0m\u001b[1;33m(\u001b[0m\u001b[0mlvalues\u001b[0m\u001b[1;33m,\u001b[0m \u001b[0mrvalues\u001b[0m\u001b[1;33m,\u001b[0m \u001b[0mop\u001b[0m\u001b[1;33m)\u001b[0m\u001b[1;33m\u001b[0m\u001b[1;33m\u001b[0m\u001b[0m\n\u001b[0m\u001b[0;32m    356\u001b[0m         \u001b[1;31m# error: Cannot call function of unknown type\u001b[0m\u001b[1;33m\u001b[0m\u001b[1;33m\u001b[0m\u001b[1;33m\u001b[0m\u001b[0m\n\u001b[0;32m    357\u001b[0m         \u001b[0mres_values\u001b[0m \u001b[1;33m=\u001b[0m \u001b[0mfiller\u001b[0m\u001b[1;33m(\u001b[0m\u001b[0mres_values\u001b[0m\u001b[1;33m)\u001b[0m  \u001b[1;31m# type: ignore[operator]\u001b[0m\u001b[1;33m\u001b[0m\u001b[1;33m\u001b[0m\u001b[0m\n",
      "\u001b[1;32m~\\anaconda3\\lib\\site-packages\\pandas\\core\\ops\\array_ops.py\u001b[0m in \u001b[0;36mna_logical_op\u001b[1;34m(x, y, op)\u001b[0m\n\u001b[0;32m    286\u001b[0m             ) as err:\n\u001b[0;32m    287\u001b[0m                 \u001b[0mtyp\u001b[0m \u001b[1;33m=\u001b[0m \u001b[0mtype\u001b[0m\u001b[1;33m(\u001b[0m\u001b[0my\u001b[0m\u001b[1;33m)\u001b[0m\u001b[1;33m.\u001b[0m\u001b[0m__name__\u001b[0m\u001b[1;33m\u001b[0m\u001b[1;33m\u001b[0m\u001b[0m\n\u001b[1;32m--> 288\u001b[1;33m                 raise TypeError(\n\u001b[0m\u001b[0;32m    289\u001b[0m                     \u001b[1;34mf\"Cannot perform '{op.__name__}' with a dtyped [{x.dtype}] array \"\u001b[0m\u001b[1;33m\u001b[0m\u001b[1;33m\u001b[0m\u001b[0m\n\u001b[0;32m    290\u001b[0m                     \u001b[1;34mf\"and scalar of type [{typ}]\"\u001b[0m\u001b[1;33m\u001b[0m\u001b[1;33m\u001b[0m\u001b[0m\n",
      "\u001b[1;31mTypeError\u001b[0m: Cannot perform 'rand_' with a dtyped [object] array and scalar of type [bool]"
     ]
    }
   ],
   "source": [
    "aa = pisa[pisa[\"Continent_Code\"] == \"EU\" & pisa[\"Continent_Code\" ] == \"AS\"]\n",
    "# aa = pisa[\"Continent_Code\"].isin([\"AS\", \"EU\"])\n",
    "aa\n",
    "pisa.boxplot(by ='Continent_Code', column =['Math'], grid = False)"
   ]
  },
  {
   "cell_type": "markdown",
   "id": "fe5db9ca",
   "metadata": {},
   "source": [
    "## Exercise 4\n",
    "#### H0 = Öğrencilerin matematik ve ingilizce not ortalamaları ile diğer ders ortalamaları arasında fark yoktur\n",
    "#### H1 = Öğrencilerin matematik ve ingilizce not ortalamaları ile diğer ders ortalamaları arasında fark vardır"
   ]
  },
  {
   "cell_type": "code",
   "execution_count": 29,
   "id": "73c3d695",
   "metadata": {},
   "outputs": [
    {
     "data": {
      "text/html": [
       "<div>\n",
       "<style scoped>\n",
       "    .dataframe tbody tr th:only-of-type {\n",
       "        vertical-align: middle;\n",
       "    }\n",
       "\n",
       "    .dataframe tbody tr th {\n",
       "        vertical-align: top;\n",
       "    }\n",
       "\n",
       "    .dataframe thead th {\n",
       "        text-align: right;\n",
       "    }\n",
       "</style>\n",
       "<table border=\"1\" class=\"dataframe\">\n",
       "  <thead>\n",
       "    <tr style=\"text-align: right;\">\n",
       "      <th></th>\n",
       "      <th>ids</th>\n",
       "      <th>bday</th>\n",
       "      <th>enrolldate</th>\n",
       "      <th>expgradate</th>\n",
       "      <th>Rank</th>\n",
       "      <th>Major</th>\n",
       "      <th>Gender</th>\n",
       "      <th>Athlete</th>\n",
       "      <th>Height</th>\n",
       "      <th>Weight</th>\n",
       "      <th>...</th>\n",
       "      <th>English</th>\n",
       "      <th>Reading</th>\n",
       "      <th>Math</th>\n",
       "      <th>Writing</th>\n",
       "      <th>State</th>\n",
       "      <th>LiveOnCampus</th>\n",
       "      <th>HowCommute</th>\n",
       "      <th>CommuteTime</th>\n",
       "      <th>SleepTime</th>\n",
       "      <th>StudyTime</th>\n",
       "    </tr>\n",
       "  </thead>\n",
       "  <tbody>\n",
       "    <tr>\n",
       "      <th>0</th>\n",
       "      <td>43783</td>\n",
       "      <td>3/22/1995</td>\n",
       "      <td>NaN</td>\n",
       "      <td>NaN</td>\n",
       "      <td>NaN</td>\n",
       "      <td>NaN</td>\n",
       "      <td>0.0</td>\n",
       "      <td>0</td>\n",
       "      <td>72.35</td>\n",
       "      <td>NaN</td>\n",
       "      <td>...</td>\n",
       "      <td>88.24</td>\n",
       "      <td>81.50</td>\n",
       "      <td>60.02</td>\n",
       "      <td>81.44</td>\n",
       "      <td>In state</td>\n",
       "      <td>1.0</td>\n",
       "      <td>NaN</td>\n",
       "      <td>NaN</td>\n",
       "      <td>7.0</td>\n",
       "      <td>1.0</td>\n",
       "    </tr>\n",
       "    <tr>\n",
       "      <th>1</th>\n",
       "      <td>20278</td>\n",
       "      <td>1/1/1995</td>\n",
       "      <td>NaN</td>\n",
       "      <td>NaN</td>\n",
       "      <td>NaN</td>\n",
       "      <td>Philosophy</td>\n",
       "      <td>0.0</td>\n",
       "      <td>0</td>\n",
       "      <td>70.66</td>\n",
       "      <td>179.2</td>\n",
       "      <td>...</td>\n",
       "      <td>89.45</td>\n",
       "      <td>85.25</td>\n",
       "      <td>70.19</td>\n",
       "      <td>73.27</td>\n",
       "      <td>NaN</td>\n",
       "      <td>1.0</td>\n",
       "      <td>NaN</td>\n",
       "      <td>NaN</td>\n",
       "      <td>5.0</td>\n",
       "      <td>2.0</td>\n",
       "    </tr>\n",
       "  </tbody>\n",
       "</table>\n",
       "<p>2 rows × 23 columns</p>\n",
       "</div>"
      ],
      "text/plain": [
       "     ids       bday enrolldate expgradate  Rank       Major  Gender  Athlete  \\\n",
       "0  43783  3/22/1995        NaN        NaN   NaN         NaN     0.0        0   \n",
       "1  20278   1/1/1995        NaN        NaN   NaN  Philosophy     0.0        0   \n",
       "\n",
       "   Height  Weight  ...  English  Reading   Math  Writing     State  \\\n",
       "0   72.35     NaN  ...    88.24    81.50  60.02    81.44  In state   \n",
       "1   70.66   179.2  ...    89.45    85.25  70.19    73.27       NaN   \n",
       "\n",
       "   LiveOnCampus  HowCommute CommuteTime  SleepTime  StudyTime  \n",
       "0           1.0         NaN         NaN        7.0        1.0  \n",
       "1           1.0         NaN         NaN        5.0        2.0  \n",
       "\n",
       "[2 rows x 23 columns]"
      ]
     },
     "execution_count": 29,
     "metadata": {},
     "output_type": "execute_result"
    }
   ],
   "source": [
    "student = pd.read_csv(r\"C:\\Users\\bunya\\Downloads\\students_2014 - students_2014.csv\")\n",
    "student.head(2)"
   ]
  },
  {
   "cell_type": "code",
   "execution_count": 30,
   "id": "66698ff4",
   "metadata": {},
   "outputs": [
    {
     "name": "stdout",
     "output_type": "stream",
     "text": [
      "<class 'pandas.core.frame.DataFrame'>\n",
      "RangeIndex: 435 entries, 0 to 434\n",
      "Data columns (total 23 columns):\n",
      " #   Column        Non-Null Count  Dtype  \n",
      "---  ------        --------------  -----  \n",
      " 0   ids           435 non-null    int64  \n",
      " 1   bday          427 non-null    object \n",
      " 2   enrolldate    406 non-null    object \n",
      " 3   expgradate    406 non-null    object \n",
      " 4   Rank          406 non-null    float64\n",
      " 5   Major         276 non-null    object \n",
      " 6   Gender        426 non-null    float64\n",
      " 7   Athlete       435 non-null    int64  \n",
      " 8   Height        408 non-null    float64\n",
      " 9   Weight        376 non-null    float64\n",
      " 10  Smoking       411 non-null    float64\n",
      " 11  Sprint        374 non-null    float64\n",
      " 12  MileMinDur    392 non-null    object \n",
      " 13  English       409 non-null    float64\n",
      " 14  Reading       425 non-null    float64\n",
      " 15  Math          422 non-null    float64\n",
      " 16  Writing       404 non-null    float64\n",
      " 17  State         408 non-null    object \n",
      " 18  LiveOnCampus  414 non-null    float64\n",
      " 19  HowCommute    247 non-null    float64\n",
      " 20  CommuteTime   247 non-null    float64\n",
      " 21  SleepTime     403 non-null    float64\n",
      " 22  StudyTime     393 non-null    float64\n",
      "dtypes: float64(15), int64(2), object(6)\n",
      "memory usage: 78.3+ KB\n"
     ]
    }
   ],
   "source": [
    "student.info()"
   ]
  },
  {
   "cell_type": "code",
   "execution_count": 31,
   "id": "73b73abf",
   "metadata": {},
   "outputs": [
    {
     "data": {
      "text/html": [
       "<div>\n",
       "<style scoped>\n",
       "    .dataframe tbody tr th:only-of-type {\n",
       "        vertical-align: middle;\n",
       "    }\n",
       "\n",
       "    .dataframe tbody tr th {\n",
       "        vertical-align: top;\n",
       "    }\n",
       "\n",
       "    .dataframe thead th {\n",
       "        text-align: right;\n",
       "    }\n",
       "</style>\n",
       "<table border=\"1\" class=\"dataframe\">\n",
       "  <thead>\n",
       "    <tr style=\"text-align: right;\">\n",
       "      <th></th>\n",
       "      <th>Math</th>\n",
       "      <th>English</th>\n",
       "    </tr>\n",
       "  </thead>\n",
       "  <tbody>\n",
       "    <tr>\n",
       "      <th>0</th>\n",
       "      <td>60.02</td>\n",
       "      <td>88.24</td>\n",
       "    </tr>\n",
       "    <tr>\n",
       "      <th>1</th>\n",
       "      <td>70.19</td>\n",
       "      <td>89.45</td>\n",
       "    </tr>\n",
       "  </tbody>\n",
       "</table>\n",
       "</div>"
      ],
      "text/plain": [
       "    Math  English\n",
       "0  60.02    88.24\n",
       "1  70.19    89.45"
      ]
     },
     "execution_count": 31,
     "metadata": {},
     "output_type": "execute_result"
    }
   ],
   "source": [
    "mat_eng = student[[\"Math\", \"English\"]]\n",
    "mat_eng.head(2)"
   ]
  },
  {
   "cell_type": "code",
   "execution_count": 32,
   "id": "cb0c466f",
   "metadata": {},
   "outputs": [
    {
     "data": {
      "text/plain": [
       "13"
      ]
     },
     "execution_count": 32,
     "metadata": {},
     "output_type": "execute_result"
    }
   ],
   "source": [
    "student[\"Math\"].isnull().sum()"
   ]
  },
  {
   "cell_type": "code",
   "execution_count": 33,
   "id": "dcd81adc",
   "metadata": {},
   "outputs": [
    {
     "data": {
      "text/plain": [
       "26"
      ]
     },
     "execution_count": 33,
     "metadata": {},
     "output_type": "execute_result"
    }
   ],
   "source": [
    "student[\"English\"].isnull().sum()"
   ]
  },
  {
   "cell_type": "code",
   "execution_count": 34,
   "id": "1b8829d9",
   "metadata": {},
   "outputs": [],
   "source": [
    "Mathmean = student[\"Math\"].mean()\n",
    "EngMean = student[\"English\"].mean()"
   ]
  },
  {
   "cell_type": "code",
   "execution_count": 35,
   "id": "43f0e114",
   "metadata": {},
   "outputs": [
    {
     "data": {
      "text/plain": [
       "(65.46800947867297, 82.78755501222493)"
      ]
     },
     "execution_count": 35,
     "metadata": {},
     "output_type": "execute_result"
    }
   ],
   "source": [
    "Mathmean, EngMean"
   ]
  },
  {
   "cell_type": "code",
   "execution_count": 40,
   "id": "b8be1e97",
   "metadata": {},
   "outputs": [],
   "source": [
    "matEngDiff2 = stats.ttest_rel(student[\"Math\"], student[\"English\"], alternative = \"two-sided\", nan_policy = \"omit\")"
   ]
  },
  {
   "cell_type": "code",
   "execution_count": 37,
   "id": "7958721d",
   "metadata": {},
   "outputs": [
    {
     "data": {
      "text/plain": [
       "Ttest_relResult(statistic=-36.31256898171986, pvalue=3.071098719220689e-128)"
      ]
     },
     "execution_count": 37,
     "metadata": {},
     "output_type": "execute_result"
    }
   ],
   "source": [
    "matEngDiff2"
   ]
  },
  {
   "cell_type": "code",
   "execution_count": 38,
   "id": "a5f2041b",
   "metadata": {},
   "outputs": [
    {
     "data": {
      "text/plain": [
       "3.071098719220689e-128"
      ]
     },
     "execution_count": 38,
     "metadata": {},
     "output_type": "execute_result"
    }
   ],
   "source": [
    "matEngDiff2.pvalue"
   ]
  },
  {
   "cell_type": "markdown",
   "id": "5c9cec10",
   "metadata": {},
   "source": [
    "## Failed to recect H0, no statistical difference between Math and English score mean (>0.05)"
   ]
  },
  {
   "cell_type": "code",
   "execution_count": null,
   "id": "2696cd93",
   "metadata": {},
   "outputs": [],
   "source": []
  }
 ],
 "metadata": {
  "kernelspec": {
   "display_name": "Python 3",
   "language": "python",
   "name": "python3"
  },
  "language_info": {
   "codemirror_mode": {
    "name": "ipython",
    "version": 3
   },
   "file_extension": ".py",
   "mimetype": "text/x-python",
   "name": "python",
   "nbconvert_exporter": "python",
   "pygments_lexer": "ipython3",
   "version": "3.8.8"
  }
 },
 "nbformat": 4,
 "nbformat_minor": 5
}
